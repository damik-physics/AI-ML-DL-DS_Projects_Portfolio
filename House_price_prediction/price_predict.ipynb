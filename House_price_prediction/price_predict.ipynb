{
  "cells": [
    {
      "cell_type": "markdown",
      "metadata": {
        "id": "view-in-github",
        "colab_type": "text"
      },
      "source": [
        "<a href=\"https://colab.research.google.com/github/mustafabozkaya/AI-ML-DL-DS_Projects_Portfolio/blob/master/House_price_prediction/price_predict.ipynb\" target=\"_parent\"><img src=\"https://colab.research.google.com/assets/colab-badge.svg\" alt=\"Open In Colab\"/></a>"
      ]
    },
    {
      "cell_type": "code",
      "execution_count": null,
      "id": "c451dfc9",
      "metadata": {
        "id": "c451dfc9"
      },
      "outputs": [],
      "source": [
        "import numpy as np\n",
        "import pandas as pd"
      ]
    },
    {
      "cell_type": "markdown",
      "source": [
        "### Dataset\n",
        "\n",
        "In this homework, we will use the California Housing Prices from [Kaggle](https://www.kaggle.com/datasets/camnugent/california-housing-prices).\n",
        "\n",
        "Here's a wget-able [link](https://raw.githubusercontent.com/alexeygrigorev/datasets/master/housing.csv):\n",
        "\n",
        "```bash\n",
        "wget https://raw.githubusercontent.com/alexeygrigorev/datasets/master/housing.csv\n",
        "```"
      ],
      "metadata": {
        "id": "jPPjOR1zV4mY"
      },
      "id": "jPPjOR1zV4mY"
    },
    {
      "cell_type": "code",
      "execution_count": null,
      "id": "b73eb3e7",
      "metadata": {
        "id": "b73eb3e7"
      },
      "outputs": [],
      "source": [
        "df = pd.read_csv(\"housing.csv\")"
      ]
    },
    {
      "cell_type": "code",
      "execution_count": null,
      "id": "26aebe0b",
      "metadata": {
        "id": "26aebe0b",
        "outputId": "76b027fd-04b2-4db3-c2ad-1c119eca8e68"
      },
      "outputs": [
        {
          "data": {
            "text/plain": [
              "<1H OCEAN     9136\n",
              "INLAND        6551\n",
              "NEAR OCEAN    2658\n",
              "NEAR BAY      2290\n",
              "ISLAND           5\n",
              "Name: ocean_proximity, dtype: int64"
            ]
          },
          "execution_count": 3,
          "metadata": {},
          "output_type": "execute_result"
        }
      ],
      "source": [
        "df['ocean_proximity'].value_counts()"
      ]
    },
    {
      "cell_type": "code",
      "execution_count": null,
      "id": "0acc2b48",
      "metadata": {
        "id": "0acc2b48"
      },
      "outputs": [],
      "source": [
        "df = df[df['ocean_proximity'].isin(['<1H OCEAN', 'INLAND'])]"
      ]
    },
    {
      "cell_type": "code",
      "execution_count": null,
      "id": "992a75b5",
      "metadata": {
        "id": "992a75b5"
      },
      "outputs": [],
      "source": [
        "columns = [\n",
        "    \"longitude\",\n",
        "    \"latitude\",\n",
        "    \"housing_median_age\",\n",
        "    \"total_rooms\",\n",
        "    \"total_bedrooms\",\n",
        "    \"population\",\n",
        "    \"households\",\n",
        "    \"median_income\",\n",
        "    \"median_house_value\"\n",
        "]\n",
        "\n",
        "df = df[columns]"
      ]
    },
    {
      "cell_type": "markdown",
      "id": "b25b0177",
      "metadata": {
        "id": "b25b0177"
      },
      "source": [
        "**Question 1**: Feature with missing values"
      ]
    },
    {
      "cell_type": "code",
      "execution_count": null,
      "id": "5f9ca847",
      "metadata": {
        "id": "5f9ca847",
        "outputId": "415213ff-69fd-4fbe-e4f7-0a056b698a6a"
      },
      "outputs": [
        {
          "data": {
            "text/plain": [
              "longitude               0\n",
              "latitude                0\n",
              "housing_median_age      0\n",
              "total_rooms             0\n",
              "total_bedrooms        157\n",
              "population              0\n",
              "households              0\n",
              "median_income           0\n",
              "median_house_value      0\n",
              "dtype: int64"
            ]
          },
          "execution_count": 6,
          "metadata": {},
          "output_type": "execute_result"
        }
      ],
      "source": [
        "df.isnull().sum()"
      ]
    },
    {
      "cell_type": "markdown",
      "id": "5875e9d3",
      "metadata": {
        "id": "5875e9d3"
      },
      "source": [
        "Answer: `total_bedrooms`"
      ]
    },
    {
      "cell_type": "markdown",
      "id": "cedf28ee",
      "metadata": {
        "id": "cedf28ee"
      },
      "source": [
        "**Question 2**: Median for population"
      ]
    },
    {
      "cell_type": "code",
      "execution_count": null,
      "id": "6d010459",
      "metadata": {
        "id": "6d010459",
        "outputId": "4eb0e6e7-b9c6-4873-91e6-65c2624e6494"
      },
      "outputs": [
        {
          "data": {
            "text/plain": [
              "1195.0"
            ]
          },
          "execution_count": 7,
          "metadata": {},
          "output_type": "execute_result"
        }
      ],
      "source": [
        "df['population'].median()"
      ]
    },
    {
      "cell_type": "markdown",
      "id": "aefaa53f",
      "metadata": {
        "id": "aefaa53f"
      },
      "source": [
        "Splitting and preparing the dataset"
      ]
    },
    {
      "cell_type": "code",
      "execution_count": null,
      "id": "e4335d7d",
      "metadata": {
        "id": "e4335d7d"
      },
      "outputs": [],
      "source": [
        "n = len(df)\n",
        "\n",
        "n_val = int(0.2 * n)\n",
        "n_test = int(0.2 * n)\n",
        "n_train = n - (n_val + n_test)\n",
        "\n",
        "idx = np.arange(n)\n",
        "np.random.seed(42)\n",
        "np.random.shuffle(idx)\n",
        "\n",
        "df_shuffled = df.iloc[idx]\n",
        "\n",
        "df_train = df_shuffled.iloc[:n_train].copy()\n",
        "df_val = df_shuffled.iloc[n_train:n_train+n_val].copy()\n",
        "df_test = df_shuffled.iloc[n_train+n_val:].copy()\n",
        "\n",
        "df_train = df_train.reset_index(drop=True)\n",
        "df_val = df_val.reset_index(drop=True)\n",
        "df_test = df_test.reset_index(drop=True)"
      ]
    },
    {
      "cell_type": "code",
      "execution_count": null,
      "id": "af8ec23d",
      "metadata": {
        "id": "af8ec23d"
      },
      "outputs": [],
      "source": [
        "y_train_orig = df_train.median_house_value.values\n",
        "y_val_orig = df_val.median_house_value.values\n",
        "y_test_orig = df_test.median_house_value.values\n",
        "\n",
        "y_train = np.log1p(y_train_orig)\n",
        "y_val = np.log1p(y_val_orig)\n",
        "y_test = np.log1p(y_test_orig)\n",
        "\n",
        "del df_train['median_house_value']\n",
        "del df_val['median_house_value']\n",
        "del df_test['median_house_value']"
      ]
    },
    {
      "cell_type": "markdown",
      "id": "ff693918",
      "metadata": {
        "id": "ff693918"
      },
      "source": [
        "**Question 3**: Mean vs zero"
      ]
    },
    {
      "cell_type": "code",
      "execution_count": null,
      "id": "da978b10",
      "metadata": {
        "id": "da978b10"
      },
      "outputs": [],
      "source": [
        "def train_linear_regression(X, y):\n",
        "    ones = np.ones(X.shape[0])\n",
        "    X = np.column_stack([ones, X])\n",
        "\n",
        "    XTX = X.T.dot(X)\n",
        "    XTX_inv = np.linalg.inv(XTX)\n",
        "    w = XTX_inv.dot(X.T).dot(y)\n",
        "\n",
        "    return w[0], w[1:]\n",
        "\n",
        "def prepare_X(df, fillna_value):\n",
        "    df = df.fillna(fillna_value)\n",
        "    X = df.values\n",
        "    return X\n",
        "\n",
        "def rmse(y, y_pred):\n",
        "    error = y_pred - y\n",
        "    mse = (error ** 2).mean()\n",
        "    return np.sqrt(mse)"
      ]
    },
    {
      "cell_type": "markdown",
      "id": "1ac2bcfd",
      "metadata": {
        "id": "1ac2bcfd"
      },
      "source": [
        "with mean:"
      ]
    },
    {
      "cell_type": "code",
      "execution_count": null,
      "id": "667f94fc",
      "metadata": {
        "id": "667f94fc",
        "outputId": "d291e232-15ed-40d1-d29d-025964d2bfab"
      },
      "outputs": [
        {
          "data": {
            "text/plain": [
              "0.34056998014349793"
            ]
          },
          "execution_count": 11,
          "metadata": {},
          "output_type": "execute_result"
        }
      ],
      "source": [
        "mean = df_train.total_bedrooms.mean()\n",
        "\n",
        "X_train = prepare_X(df_train, fillna_value=mean)\n",
        "w_0, w = train_linear_regression(X_train, y_train)\n",
        "\n",
        "X_val = prepare_X(df_val, fillna_value=mean)\n",
        "y_pred = w_0 + X_val.dot(w)\n",
        "\n",
        "rmse(y_val, y_pred)"
      ]
    },
    {
      "cell_type": "markdown",
      "id": "86b1b2a4",
      "metadata": {
        "id": "86b1b2a4"
      },
      "source": [
        "with 0:"
      ]
    },
    {
      "cell_type": "code",
      "execution_count": null,
      "id": "b0ae2b32",
      "metadata": {
        "id": "b0ae2b32",
        "outputId": "5b8f0560-026a-40b0-8d08-3b9363465ae9"
      },
      "outputs": [
        {
          "data": {
            "text/plain": [
              "0.34084790341753624"
            ]
          },
          "execution_count": 12,
          "metadata": {},
          "output_type": "execute_result"
        }
      ],
      "source": [
        "X_train = prepare_X(df_train, fillna_value=0)\n",
        "w_0, w = train_linear_regression(X_train, y_train)\n",
        "\n",
        "X_val = prepare_X(df_val, fillna_value=0)\n",
        "y_pred = w_0 + X_val.dot(w)\n",
        "\n",
        "rmse(y_val, y_pred)"
      ]
    },
    {
      "cell_type": "markdown",
      "id": "dfd537dc",
      "metadata": {
        "id": "dfd537dc"
      },
      "source": [
        "The answer: **Both are equally good**"
      ]
    },
    {
      "cell_type": "markdown",
      "id": "09a8e086",
      "metadata": {
        "id": "09a8e086"
      },
      "source": [
        "**Question 4**: Regularization"
      ]
    },
    {
      "cell_type": "code",
      "execution_count": null,
      "id": "9642eb7d",
      "metadata": {
        "id": "9642eb7d"
      },
      "outputs": [],
      "source": [
        "def train_linear_regression_reg(X, y, r=0.0):\n",
        "    ones = np.ones(X.shape[0])\n",
        "    X = np.column_stack([ones, X])\n",
        "\n",
        "    XTX = X.T.dot(X)\n",
        "    reg = r * np.eye(XTX.shape[0])\n",
        "    XTX = XTX + reg\n",
        "\n",
        "    XTX_inv = np.linalg.inv(XTX)\n",
        "    w = XTX_inv.dot(X.T).dot(y)\n",
        "\n",
        "    return w[0], w[1:]"
      ]
    },
    {
      "cell_type": "code",
      "execution_count": null,
      "id": "110bbed7",
      "metadata": {
        "id": "110bbed7",
        "outputId": "568622f8-bf66-45d9-a858-7b84ec4da04f"
      },
      "outputs": [
        {
          "name": "stdout",
          "output_type": "stream",
          "text": [
            "     0 0.34085\n",
            " 1e-06 0.34085\n",
            "0.0001 0.34085\n",
            " 0.001 0.34085\n",
            "  0.01 0.34088\n",
            "   0.1 0.34129\n",
            "     1 0.34490\n",
            "     5 0.34774\n",
            "    10 0.34831\n"
          ]
        }
      ],
      "source": [
        "for r in [0, 0.000001, 0.0001, 0.001, 0.01, 0.1, 1, 5, 10]:\n",
        "    w_0, w = train_linear_regression_reg(X_train, y_train, r=r)\n",
        "    y_pred = w_0 + X_val.dot(w)\n",
        "    rmse_val = rmse(y_val, y_pred)\n",
        "    print('%06s %0.5f' % (r, rmse_val))"
      ]
    },
    {
      "cell_type": "markdown",
      "id": "58525d07",
      "metadata": {
        "id": "58525d07"
      },
      "source": [
        "The answer: `r=0`"
      ]
    },
    {
      "cell_type": "markdown",
      "id": "f330354e",
      "metadata": {
        "id": "f330354e"
      },
      "source": [
        "**Question 5**: Standard deviation of RMSE"
      ]
    },
    {
      "cell_type": "code",
      "execution_count": null,
      "id": "c8bf8f06",
      "metadata": {
        "id": "c8bf8f06",
        "outputId": "0aaa271e-b53b-4921-df00-351bc2fdbf4c"
      },
      "outputs": [
        {
          "name": "stdout",
          "output_type": "stream",
          "text": [
            "0 0.33773871600834\n",
            "1 0.3377999353661282\n",
            "2 0.33842870067685615\n",
            "3 0.33200494683081555\n",
            "4 0.3394451862556629\n",
            "5 0.34338197052599967\n",
            "6 0.3385330211773903\n",
            "7 0.3468747697289676\n",
            "8 0.3512736865957031\n",
            "9 0.33415582665211396\n"
          ]
        }
      ],
      "source": [
        "rmses = []\n",
        "\n",
        "for s in [0, 1, 2, 3, 4, 5, 6, 7, 8, 9]:\n",
        "\n",
        "    n = len(df)\n",
        "\n",
        "    n_val = int(0.2 * n)\n",
        "    n_test = int(0.2 * n)\n",
        "    n_train = n - (n_val + n_test)\n",
        "\n",
        "    idx = np.arange(n)\n",
        "    np.random.seed(s)\n",
        "    np.random.shuffle(idx)\n",
        "\n",
        "    df_shuffled = df.iloc[idx]\n",
        "\n",
        "    df_train = df_shuffled.iloc[:n_train].copy()\n",
        "    df_val = df_shuffled.iloc[n_train:n_train+n_val].copy()\n",
        "    df_test = df_shuffled.iloc[n_train+n_val:].copy()\n",
        "\n",
        "    df_train = df_train.reset_index(drop=True)\n",
        "    df_val = df_val.reset_index(drop=True)\n",
        "    df_test = df_test.reset_index(drop=True)\n",
        "\n",
        "    y_train_orig = df_train.median_house_value.values\n",
        "    y_val_orig = df_val.median_house_value.values\n",
        "    y_test_orig = df_test.median_house_value.values\n",
        "\n",
        "    y_train = np.log1p(y_train_orig)\n",
        "    y_val = np.log1p(y_val_orig)\n",
        "    y_test = np.log1p(y_test_orig)\n",
        "\n",
        "    del df_train['median_house_value']\n",
        "    del df_val['median_house_value']\n",
        "    del df_test['median_house_value']\n",
        "\n",
        "    X_train = prepare_X(df_train, fillna_value=0)\n",
        "    w_0, w = train_linear_regression(X_train, y_train)\n",
        "\n",
        "    X_val = prepare_X(df_val, fillna_value=0)\n",
        "    y_pred = w_0 + X_val.dot(w)\n",
        "\n",
        "    result = rmse(y_val, y_pred)\n",
        "    print(s, result)\n",
        "\n",
        "    rmses.append(result)"
      ]
    },
    {
      "cell_type": "code",
      "execution_count": null,
      "id": "a1ea59b7",
      "metadata": {
        "id": "a1ea59b7",
        "outputId": "a2dc3dd2-4ff8-47ca-d362-60cb85e12eb6"
      },
      "outputs": [
        {
          "data": {
            "text/plain": [
              "0.005465718180462604"
            ]
          },
          "execution_count": 24,
          "metadata": {},
          "output_type": "execute_result"
        }
      ],
      "source": [
        "np.std(rmses)"
      ]
    },
    {
      "cell_type": "markdown",
      "id": "c29fe6fa",
      "metadata": {
        "id": "c29fe6fa"
      },
      "source": [
        "**Question 6**: RMSE for Test"
      ]
    },
    {
      "cell_type": "code",
      "execution_count": null,
      "id": "b9d8d0e4",
      "metadata": {
        "id": "b9d8d0e4"
      },
      "outputs": [],
      "source": [
        "n = len(df)\n",
        "\n",
        "n_val = int(0.2 * n)\n",
        "n_test = int(0.2 * n)\n",
        "n_train = n - (n_val + n_test)\n",
        "\n",
        "idx = np.arange(n)\n",
        "np.random.seed(9)\n",
        "np.random.shuffle(idx)\n",
        "\n",
        "df_shuffled = df.iloc[idx]\n",
        "\n",
        "df_train = df_shuffled.iloc[:n_train].copy()\n",
        "df_val = df_shuffled.iloc[n_train:n_train+n_val].copy()\n",
        "df_test = df_shuffled.iloc[n_train+n_val:].copy()\n",
        "\n",
        "df_train = df_train.reset_index(drop=True)\n",
        "df_val = df_val.reset_index(drop=True)\n",
        "df_test = df_test.reset_index(drop=True)\n",
        "\n",
        "y_train_orig = df_train.median_house_value.values\n",
        "y_val_orig = df_val.median_house_value.values\n",
        "y_test_orig = df_test.median_house_value.values\n",
        "\n",
        "y_train = np.log1p(y_train_orig)\n",
        "y_val = np.log1p(y_val_orig)\n",
        "y_test = np.log1p(y_test_orig)\n",
        "\n",
        "del df_train['median_house_value']\n",
        "del df_val['median_house_value']\n",
        "del df_test['median_house_value']"
      ]
    },
    {
      "cell_type": "code",
      "execution_count": null,
      "id": "dfe80373",
      "metadata": {
        "id": "dfe80373",
        "outputId": "5de546e1-5656-439d-8984-07d5e870f041"
      },
      "outputs": [
        {
          "name": "stdout",
          "output_type": "stream",
          "text": [
            "0.33488435337023637\n"
          ]
        }
      ],
      "source": [
        "X_train = prepare_X(df_train, fillna_value=0)\n",
        "w_0, w = train_linear_regression(X_train, y_train)\n",
        "\n",
        "X_test = prepare_X(df_test, fillna_value=0)\n",
        "y_pred = w_0 + X_test.dot(w)\n",
        "\n",
        "result = rmse(y_test, y_pred)\n",
        "print(result)"
      ]
    }
  ],
  "metadata": {
    "kernelspec": {
      "display_name": "Python 3 (ipykernel)",
      "language": "python",
      "name": "python3"
    },
    "language_info": {
      "codemirror_mode": {
        "name": "ipython",
        "version": 3
      },
      "file_extension": ".py",
      "mimetype": "text/x-python",
      "name": "python",
      "nbconvert_exporter": "python",
      "pygments_lexer": "ipython3",
      "version": "3.9.13"
    },
    "colab": {
      "provenance": [],
      "include_colab_link": true
    }
  },
  "nbformat": 4,
  "nbformat_minor": 5
}