{
  "cells": [
    {
      "cell_type": "markdown",
      "metadata": {
        "id": "view-in-github",
        "colab_type": "text"
      },
      "source": [
        "<a href=\"https://colab.research.google.com/github/mustafabozkaya/AI-ML-DL-DS_Projects_Portfolio/blob/master/Car-price-prediction-project/all_exercise_notebook.ipynb\" target=\"_parent\"><img src=\"https://colab.research.google.com/assets/colab-badge.svg\" alt=\"Open In Colab\"/></a>"
      ]
    },
    {
      "cell_type": "markdown",
      "metadata": {
        "id": "XuB7AoDyuxfC"
      },
      "source": [
        "## 2. Machine Learning for Regression\n"
      ],
      "id": "XuB7AoDyuxfC"
    },
    {
      "cell_type": "code",
      "execution_count": 116,
      "metadata": {
        "scrolled": true,
        "id": "-FOFvQHAuxfH"
      },
      "outputs": [],
      "source": [
        "import pandas as pd\n",
        "import numpy as np"
      ],
      "id": "-FOFvQHAuxfH"
    },
    {
      "cell_type": "markdown",
      "metadata": {
        "id": "G4pmF0tAuxfJ"
      },
      "source": [
        "## 2.2 Data preparation"
      ],
      "id": "G4pmF0tAuxfJ"
    },
    {
      "cell_type": "code",
      "execution_count": 117,
      "metadata": {
        "id": "1ob6k-RRuxfJ"
      },
      "outputs": [],
      "source": [
        "data = 'https://raw.githubusercontent.com/alexeygrigorev/mlbookcamp-code/master/chapter-02-car-price/data.csv'"
      ],
      "id": "1ob6k-RRuxfJ"
    },
    {
      "cell_type": "code",
      "execution_count": 118,
      "metadata": {
        "colab": {
          "base_uri": "https://localhost:8080/"
        },
        "id": "KER4zxxeuxfK",
        "outputId": "ab1489d8-4913-460a-b35b-ed3c2db1465a"
      },
      "outputs": [
        {
          "output_type": "stream",
          "name": "stdout",
          "text": [
            "--2023-12-18 11:51:46--  https://raw.githubusercontent.com/alexeygrigorev/mlbookcamp-code/master/chapter-02-car-price/data.csv\n",
            "Resolving raw.githubusercontent.com (raw.githubusercontent.com)... 185.199.108.133, 185.199.109.133, 185.199.110.133, ...\n",
            "Connecting to raw.githubusercontent.com (raw.githubusercontent.com)|185.199.108.133|:443... connected.\n",
            "HTTP request sent, awaiting response... 200 OK\n",
            "Length: 1475504 (1.4M) [text/plain]\n",
            "Saving to: ‘data.csv.1’\n",
            "\n",
            "\rdata.csv.1            0%[                    ]       0  --.-KB/s               \rdata.csv.1          100%[===================>]   1.41M  --.-KB/s    in 0.03s   \n",
            "\n",
            "2023-12-18 11:51:47 (48.5 MB/s) - ‘data.csv.1’ saved [1475504/1475504]\n",
            "\n"
          ]
        }
      ],
      "source": [
        "!wget $data"
      ],
      "id": "KER4zxxeuxfK"
    },
    {
      "cell_type": "code",
      "execution_count": 119,
      "metadata": {
        "id": "kTsMtYnJuxfM"
      },
      "outputs": [],
      "source": [
        "df = pd.read_csv('data.csv')"
      ],
      "id": "kTsMtYnJuxfM"
    },
    {
      "cell_type": "code",
      "execution_count": 120,
      "metadata": {
        "id": "wSgOxngcuxfM"
      },
      "outputs": [],
      "source": [
        "df.columns = df.columns.str.lower().str.replace(' ', '_')"
      ],
      "id": "wSgOxngcuxfM"
    },
    {
      "cell_type": "code",
      "execution_count": 121,
      "metadata": {
        "colab": {
          "base_uri": "https://localhost:8080/"
        },
        "id": "jO9zxWAouxfN",
        "outputId": "5ab566fc-8e73-4f80-92ab-1dd9261f95d9"
      },
      "outputs": [
        {
          "output_type": "execute_result",
          "data": {
            "text/plain": [
              "0            bmw\n",
              "1            bmw\n",
              "2            bmw\n",
              "3            bmw\n",
              "4            bmw\n",
              "          ...   \n",
              "11909      acura\n",
              "11910      acura\n",
              "11911      acura\n",
              "11912      acura\n",
              "11913    lincoln\n",
              "Name: make, Length: 11914, dtype: object"
            ]
          },
          "metadata": {},
          "execution_count": 121
        }
      ],
      "source": [
        "df['make'].str.lower().str.replace(' ', '_')"
      ],
      "id": "jO9zxWAouxfN"
    },
    {
      "cell_type": "code",
      "execution_count": 122,
      "metadata": {
        "colab": {
          "base_uri": "https://localhost:8080/"
        },
        "id": "hJnEpO5ouxfN",
        "outputId": "54b50605-4996-4473-de57-f4ee37859f99"
      },
      "outputs": [
        {
          "output_type": "execute_result",
          "data": {
            "text/plain": [
              "['make',\n",
              " 'model',\n",
              " 'engine_fuel_type',\n",
              " 'transmission_type',\n",
              " 'driven_wheels',\n",
              " 'market_category',\n",
              " 'vehicle_size',\n",
              " 'vehicle_style']"
            ]
          },
          "metadata": {},
          "execution_count": 122
        }
      ],
      "source": [
        "strings = list(df.dtypes[df.dtypes == 'object'].index)\n",
        "strings"
      ],
      "id": "hJnEpO5ouxfN"
    },
    {
      "cell_type": "code",
      "execution_count": 123,
      "metadata": {
        "id": "WTAZ7Y5zuxfO"
      },
      "outputs": [],
      "source": [
        "for col in strings:\n",
        "    df[col] = df[col].str.lower().str.replace(' ', '_')"
      ],
      "id": "WTAZ7Y5zuxfO"
    },
    {
      "cell_type": "code",
      "execution_count": 124,
      "metadata": {
        "colab": {
          "base_uri": "https://localhost:8080/"
        },
        "id": "IExtd9WruxfP",
        "outputId": "3c520162-1e74-4507-bc6a-f231dba666e7"
      },
      "outputs": [
        {
          "output_type": "execute_result",
          "data": {
            "text/plain": [
              "make                  object\n",
              "model                 object\n",
              "year                   int64\n",
              "engine_fuel_type      object\n",
              "engine_hp            float64\n",
              "engine_cylinders     float64\n",
              "transmission_type     object\n",
              "driven_wheels         object\n",
              "number_of_doors      float64\n",
              "market_category       object\n",
              "vehicle_size          object\n",
              "vehicle_style         object\n",
              "highway_mpg            int64\n",
              "city_mpg               int64\n",
              "popularity             int64\n",
              "msrp                   int64\n",
              "dtype: object"
            ]
          },
          "metadata": {},
          "execution_count": 124
        }
      ],
      "source": [
        "df.dtypes"
      ],
      "id": "IExtd9WruxfP"
    },
    {
      "cell_type": "markdown",
      "metadata": {
        "id": "TKH1av4VuxfP"
      },
      "source": [
        "## 2.3 Exploratory data analysis"
      ],
      "id": "TKH1av4VuxfP"
    },
    {
      "cell_type": "code",
      "execution_count": 125,
      "metadata": {
        "colab": {
          "base_uri": "https://localhost:8080/"
        },
        "id": "E91qWG3quxfQ",
        "outputId": "ebbccdd1-a37b-4021-b14e-e39fbf01517a"
      },
      "outputs": [
        {
          "output_type": "stream",
          "name": "stdout",
          "text": [
            "make\n",
            "['bmw' 'audi' 'fiat' 'mercedes-benz' 'chrysler']\n",
            "48\n",
            "\n",
            "model\n",
            "['1_series_m' '1_series' '100' '124_spider' '190-class']\n",
            "914\n",
            "\n",
            "year\n",
            "[2011 2012 2013 1992 1993]\n",
            "28\n",
            "\n",
            "engine_fuel_type\n",
            "['premium_unleaded_(required)' 'regular_unleaded'\n",
            " 'premium_unleaded_(recommended)' 'flex-fuel_(unleaded/e85)' 'diesel']\n",
            "10\n",
            "\n",
            "engine_hp\n",
            "[335. 300. 230. 320. 172.]\n",
            "356\n",
            "\n",
            "engine_cylinders\n",
            "[ 6.  4.  5.  8. 12.]\n",
            "9\n",
            "\n",
            "transmission_type\n",
            "['manual' 'automatic' 'automated_manual' 'direct_drive' 'unknown']\n",
            "5\n",
            "\n",
            "driven_wheels\n",
            "['rear_wheel_drive' 'front_wheel_drive' 'all_wheel_drive'\n",
            " 'four_wheel_drive']\n",
            "4\n",
            "\n",
            "number_of_doors\n",
            "[ 2.  4.  3. nan]\n",
            "3\n",
            "\n",
            "market_category\n",
            "['factory_tuner,luxury,high-performance' 'luxury,performance'\n",
            " 'luxury,high-performance' 'luxury' 'performance']\n",
            "71\n",
            "\n",
            "vehicle_size\n",
            "['compact' 'midsize' 'large']\n",
            "3\n",
            "\n",
            "vehicle_style\n",
            "['coupe' 'convertible' 'sedan' 'wagon' '4dr_hatchback']\n",
            "16\n",
            "\n",
            "highway_mpg\n",
            "[26 28 27 25 24]\n",
            "59\n",
            "\n",
            "city_mpg\n",
            "[19 20 18 17 16]\n",
            "69\n",
            "\n",
            "popularity\n",
            "[3916 3105  819  617 1013]\n",
            "48\n",
            "\n",
            "msrp\n",
            "[46135 40650 36350 29450 34500]\n",
            "6049\n",
            "\n"
          ]
        }
      ],
      "source": [
        "for col in df.columns:\n",
        "    print(col)\n",
        "    print(df[col].unique()[:5])\n",
        "    print(df[col].nunique())\n",
        "    print()"
      ],
      "id": "E91qWG3quxfQ"
    },
    {
      "cell_type": "code",
      "execution_count": 126,
      "metadata": {
        "colab": {
          "base_uri": "https://localhost:8080/",
          "height": 461
        },
        "id": "rqDfJfBnuxfR",
        "outputId": "a609b36b-5381-4ab2-91b4-fde1e615494d"
      },
      "outputs": [
        {
          "output_type": "execute_result",
          "data": {
            "text/plain": [
              "          make       model  year                engine_fuel_type  engine_hp  \\\n",
              "0          bmw  1_series_m  2011     premium_unleaded_(required)      335.0   \n",
              "1          bmw    1_series  2011     premium_unleaded_(required)      300.0   \n",
              "2          bmw    1_series  2011     premium_unleaded_(required)      300.0   \n",
              "3          bmw    1_series  2011     premium_unleaded_(required)      230.0   \n",
              "4          bmw    1_series  2011     premium_unleaded_(required)      230.0   \n",
              "...        ...         ...   ...                             ...        ...   \n",
              "11909    acura         zdx  2012     premium_unleaded_(required)      300.0   \n",
              "11910    acura         zdx  2012     premium_unleaded_(required)      300.0   \n",
              "11911    acura         zdx  2012     premium_unleaded_(required)      300.0   \n",
              "11912    acura         zdx  2013  premium_unleaded_(recommended)      300.0   \n",
              "11913  lincoln      zephyr  2006                regular_unleaded      221.0   \n",
              "\n",
              "       engine_cylinders transmission_type      driven_wheels  number_of_doors  \\\n",
              "0                   6.0            manual   rear_wheel_drive              2.0   \n",
              "1                   6.0            manual   rear_wheel_drive              2.0   \n",
              "2                   6.0            manual   rear_wheel_drive              2.0   \n",
              "3                   6.0            manual   rear_wheel_drive              2.0   \n",
              "4                   6.0            manual   rear_wheel_drive              2.0   \n",
              "...                 ...               ...                ...              ...   \n",
              "11909               6.0         automatic    all_wheel_drive              4.0   \n",
              "11910               6.0         automatic    all_wheel_drive              4.0   \n",
              "11911               6.0         automatic    all_wheel_drive              4.0   \n",
              "11912               6.0         automatic    all_wheel_drive              4.0   \n",
              "11913               6.0         automatic  front_wheel_drive              4.0   \n",
              "\n",
              "                             market_category vehicle_size  vehicle_style  \\\n",
              "0      factory_tuner,luxury,high-performance      compact          coupe   \n",
              "1                         luxury,performance      compact    convertible   \n",
              "2                    luxury,high-performance      compact          coupe   \n",
              "3                         luxury,performance      compact          coupe   \n",
              "4                                     luxury      compact    convertible   \n",
              "...                                      ...          ...            ...   \n",
              "11909             crossover,hatchback,luxury      midsize  4dr_hatchback   \n",
              "11910             crossover,hatchback,luxury      midsize  4dr_hatchback   \n",
              "11911             crossover,hatchback,luxury      midsize  4dr_hatchback   \n",
              "11912             crossover,hatchback,luxury      midsize  4dr_hatchback   \n",
              "11913                                 luxury      midsize          sedan   \n",
              "\n",
              "       highway_mpg  city_mpg  popularity   msrp  \n",
              "0               26        19        3916  46135  \n",
              "1               28        19        3916  40650  \n",
              "2               28        20        3916  36350  \n",
              "3               28        18        3916  29450  \n",
              "4               28        18        3916  34500  \n",
              "...            ...       ...         ...    ...  \n",
              "11909           23        16         204  46120  \n",
              "11910           23        16         204  56670  \n",
              "11911           23        16         204  50620  \n",
              "11912           23        16         204  50920  \n",
              "11913           26        17          61  28995  \n",
              "\n",
              "[11914 rows x 16 columns]"
            ],
            "text/html": [
              "\n",
              "  <div id=\"df-db2295c0-dea9-4088-9688-fa67b80f06bb\" class=\"colab-df-container\">\n",
              "    <div>\n",
              "<style scoped>\n",
              "    .dataframe tbody tr th:only-of-type {\n",
              "        vertical-align: middle;\n",
              "    }\n",
              "\n",
              "    .dataframe tbody tr th {\n",
              "        vertical-align: top;\n",
              "    }\n",
              "\n",
              "    .dataframe thead th {\n",
              "        text-align: right;\n",
              "    }\n",
              "</style>\n",
              "<table border=\"1\" class=\"dataframe\">\n",
              "  <thead>\n",
              "    <tr style=\"text-align: right;\">\n",
              "      <th></th>\n",
              "      <th>make</th>\n",
              "      <th>model</th>\n",
              "      <th>year</th>\n",
              "      <th>engine_fuel_type</th>\n",
              "      <th>engine_hp</th>\n",
              "      <th>engine_cylinders</th>\n",
              "      <th>transmission_type</th>\n",
              "      <th>driven_wheels</th>\n",
              "      <th>number_of_doors</th>\n",
              "      <th>market_category</th>\n",
              "      <th>vehicle_size</th>\n",
              "      <th>vehicle_style</th>\n",
              "      <th>highway_mpg</th>\n",
              "      <th>city_mpg</th>\n",
              "      <th>popularity</th>\n",
              "      <th>msrp</th>\n",
              "    </tr>\n",
              "  </thead>\n",
              "  <tbody>\n",
              "    <tr>\n",
              "      <th>0</th>\n",
              "      <td>bmw</td>\n",
              "      <td>1_series_m</td>\n",
              "      <td>2011</td>\n",
              "      <td>premium_unleaded_(required)</td>\n",
              "      <td>335.0</td>\n",
              "      <td>6.0</td>\n",
              "      <td>manual</td>\n",
              "      <td>rear_wheel_drive</td>\n",
              "      <td>2.0</td>\n",
              "      <td>factory_tuner,luxury,high-performance</td>\n",
              "      <td>compact</td>\n",
              "      <td>coupe</td>\n",
              "      <td>26</td>\n",
              "      <td>19</td>\n",
              "      <td>3916</td>\n",
              "      <td>46135</td>\n",
              "    </tr>\n",
              "    <tr>\n",
              "      <th>1</th>\n",
              "      <td>bmw</td>\n",
              "      <td>1_series</td>\n",
              "      <td>2011</td>\n",
              "      <td>premium_unleaded_(required)</td>\n",
              "      <td>300.0</td>\n",
              "      <td>6.0</td>\n",
              "      <td>manual</td>\n",
              "      <td>rear_wheel_drive</td>\n",
              "      <td>2.0</td>\n",
              "      <td>luxury,performance</td>\n",
              "      <td>compact</td>\n",
              "      <td>convertible</td>\n",
              "      <td>28</td>\n",
              "      <td>19</td>\n",
              "      <td>3916</td>\n",
              "      <td>40650</td>\n",
              "    </tr>\n",
              "    <tr>\n",
              "      <th>2</th>\n",
              "      <td>bmw</td>\n",
              "      <td>1_series</td>\n",
              "      <td>2011</td>\n",
              "      <td>premium_unleaded_(required)</td>\n",
              "      <td>300.0</td>\n",
              "      <td>6.0</td>\n",
              "      <td>manual</td>\n",
              "      <td>rear_wheel_drive</td>\n",
              "      <td>2.0</td>\n",
              "      <td>luxury,high-performance</td>\n",
              "      <td>compact</td>\n",
              "      <td>coupe</td>\n",
              "      <td>28</td>\n",
              "      <td>20</td>\n",
              "      <td>3916</td>\n",
              "      <td>36350</td>\n",
              "    </tr>\n",
              "    <tr>\n",
              "      <th>3</th>\n",
              "      <td>bmw</td>\n",
              "      <td>1_series</td>\n",
              "      <td>2011</td>\n",
              "      <td>premium_unleaded_(required)</td>\n",
              "      <td>230.0</td>\n",
              "      <td>6.0</td>\n",
              "      <td>manual</td>\n",
              "      <td>rear_wheel_drive</td>\n",
              "      <td>2.0</td>\n",
              "      <td>luxury,performance</td>\n",
              "      <td>compact</td>\n",
              "      <td>coupe</td>\n",
              "      <td>28</td>\n",
              "      <td>18</td>\n",
              "      <td>3916</td>\n",
              "      <td>29450</td>\n",
              "    </tr>\n",
              "    <tr>\n",
              "      <th>4</th>\n",
              "      <td>bmw</td>\n",
              "      <td>1_series</td>\n",
              "      <td>2011</td>\n",
              "      <td>premium_unleaded_(required)</td>\n",
              "      <td>230.0</td>\n",
              "      <td>6.0</td>\n",
              "      <td>manual</td>\n",
              "      <td>rear_wheel_drive</td>\n",
              "      <td>2.0</td>\n",
              "      <td>luxury</td>\n",
              "      <td>compact</td>\n",
              "      <td>convertible</td>\n",
              "      <td>28</td>\n",
              "      <td>18</td>\n",
              "      <td>3916</td>\n",
              "      <td>34500</td>\n",
              "    </tr>\n",
              "    <tr>\n",
              "      <th>...</th>\n",
              "      <td>...</td>\n",
              "      <td>...</td>\n",
              "      <td>...</td>\n",
              "      <td>...</td>\n",
              "      <td>...</td>\n",
              "      <td>...</td>\n",
              "      <td>...</td>\n",
              "      <td>...</td>\n",
              "      <td>...</td>\n",
              "      <td>...</td>\n",
              "      <td>...</td>\n",
              "      <td>...</td>\n",
              "      <td>...</td>\n",
              "      <td>...</td>\n",
              "      <td>...</td>\n",
              "      <td>...</td>\n",
              "    </tr>\n",
              "    <tr>\n",
              "      <th>11909</th>\n",
              "      <td>acura</td>\n",
              "      <td>zdx</td>\n",
              "      <td>2012</td>\n",
              "      <td>premium_unleaded_(required)</td>\n",
              "      <td>300.0</td>\n",
              "      <td>6.0</td>\n",
              "      <td>automatic</td>\n",
              "      <td>all_wheel_drive</td>\n",
              "      <td>4.0</td>\n",
              "      <td>crossover,hatchback,luxury</td>\n",
              "      <td>midsize</td>\n",
              "      <td>4dr_hatchback</td>\n",
              "      <td>23</td>\n",
              "      <td>16</td>\n",
              "      <td>204</td>\n",
              "      <td>46120</td>\n",
              "    </tr>\n",
              "    <tr>\n",
              "      <th>11910</th>\n",
              "      <td>acura</td>\n",
              "      <td>zdx</td>\n",
              "      <td>2012</td>\n",
              "      <td>premium_unleaded_(required)</td>\n",
              "      <td>300.0</td>\n",
              "      <td>6.0</td>\n",
              "      <td>automatic</td>\n",
              "      <td>all_wheel_drive</td>\n",
              "      <td>4.0</td>\n",
              "      <td>crossover,hatchback,luxury</td>\n",
              "      <td>midsize</td>\n",
              "      <td>4dr_hatchback</td>\n",
              "      <td>23</td>\n",
              "      <td>16</td>\n",
              "      <td>204</td>\n",
              "      <td>56670</td>\n",
              "    </tr>\n",
              "    <tr>\n",
              "      <th>11911</th>\n",
              "      <td>acura</td>\n",
              "      <td>zdx</td>\n",
              "      <td>2012</td>\n",
              "      <td>premium_unleaded_(required)</td>\n",
              "      <td>300.0</td>\n",
              "      <td>6.0</td>\n",
              "      <td>automatic</td>\n",
              "      <td>all_wheel_drive</td>\n",
              "      <td>4.0</td>\n",
              "      <td>crossover,hatchback,luxury</td>\n",
              "      <td>midsize</td>\n",
              "      <td>4dr_hatchback</td>\n",
              "      <td>23</td>\n",
              "      <td>16</td>\n",
              "      <td>204</td>\n",
              "      <td>50620</td>\n",
              "    </tr>\n",
              "    <tr>\n",
              "      <th>11912</th>\n",
              "      <td>acura</td>\n",
              "      <td>zdx</td>\n",
              "      <td>2013</td>\n",
              "      <td>premium_unleaded_(recommended)</td>\n",
              "      <td>300.0</td>\n",
              "      <td>6.0</td>\n",
              "      <td>automatic</td>\n",
              "      <td>all_wheel_drive</td>\n",
              "      <td>4.0</td>\n",
              "      <td>crossover,hatchback,luxury</td>\n",
              "      <td>midsize</td>\n",
              "      <td>4dr_hatchback</td>\n",
              "      <td>23</td>\n",
              "      <td>16</td>\n",
              "      <td>204</td>\n",
              "      <td>50920</td>\n",
              "    </tr>\n",
              "    <tr>\n",
              "      <th>11913</th>\n",
              "      <td>lincoln</td>\n",
              "      <td>zephyr</td>\n",
              "      <td>2006</td>\n",
              "      <td>regular_unleaded</td>\n",
              "      <td>221.0</td>\n",
              "      <td>6.0</td>\n",
              "      <td>automatic</td>\n",
              "      <td>front_wheel_drive</td>\n",
              "      <td>4.0</td>\n",
              "      <td>luxury</td>\n",
              "      <td>midsize</td>\n",
              "      <td>sedan</td>\n",
              "      <td>26</td>\n",
              "      <td>17</td>\n",
              "      <td>61</td>\n",
              "      <td>28995</td>\n",
              "    </tr>\n",
              "  </tbody>\n",
              "</table>\n",
              "<p>11914 rows × 16 columns</p>\n",
              "</div>\n",
              "    <div class=\"colab-df-buttons\">\n",
              "\n",
              "  <div class=\"colab-df-container\">\n",
              "    <button class=\"colab-df-convert\" onclick=\"convertToInteractive('df-db2295c0-dea9-4088-9688-fa67b80f06bb')\"\n",
              "            title=\"Convert this dataframe to an interactive table.\"\n",
              "            style=\"display:none;\">\n",
              "\n",
              "  <svg xmlns=\"http://www.w3.org/2000/svg\" height=\"24px\" viewBox=\"0 -960 960 960\">\n",
              "    <path d=\"M120-120v-720h720v720H120Zm60-500h600v-160H180v160Zm220 220h160v-160H400v160Zm0 220h160v-160H400v160ZM180-400h160v-160H180v160Zm440 0h160v-160H620v160ZM180-180h160v-160H180v160Zm440 0h160v-160H620v160Z\"/>\n",
              "  </svg>\n",
              "    </button>\n",
              "\n",
              "  <style>\n",
              "    .colab-df-container {\n",
              "      display:flex;\n",
              "      gap: 12px;\n",
              "    }\n",
              "\n",
              "    .colab-df-convert {\n",
              "      background-color: #E8F0FE;\n",
              "      border: none;\n",
              "      border-radius: 50%;\n",
              "      cursor: pointer;\n",
              "      display: none;\n",
              "      fill: #1967D2;\n",
              "      height: 32px;\n",
              "      padding: 0 0 0 0;\n",
              "      width: 32px;\n",
              "    }\n",
              "\n",
              "    .colab-df-convert:hover {\n",
              "      background-color: #E2EBFA;\n",
              "      box-shadow: 0px 1px 2px rgba(60, 64, 67, 0.3), 0px 1px 3px 1px rgba(60, 64, 67, 0.15);\n",
              "      fill: #174EA6;\n",
              "    }\n",
              "\n",
              "    .colab-df-buttons div {\n",
              "      margin-bottom: 4px;\n",
              "    }\n",
              "\n",
              "    [theme=dark] .colab-df-convert {\n",
              "      background-color: #3B4455;\n",
              "      fill: #D2E3FC;\n",
              "    }\n",
              "\n",
              "    [theme=dark] .colab-df-convert:hover {\n",
              "      background-color: #434B5C;\n",
              "      box-shadow: 0px 1px 3px 1px rgba(0, 0, 0, 0.15);\n",
              "      filter: drop-shadow(0px 1px 2px rgba(0, 0, 0, 0.3));\n",
              "      fill: #FFFFFF;\n",
              "    }\n",
              "  </style>\n",
              "\n",
              "    <script>\n",
              "      const buttonEl =\n",
              "        document.querySelector('#df-db2295c0-dea9-4088-9688-fa67b80f06bb button.colab-df-convert');\n",
              "      buttonEl.style.display =\n",
              "        google.colab.kernel.accessAllowed ? 'block' : 'none';\n",
              "\n",
              "      async function convertToInteractive(key) {\n",
              "        const element = document.querySelector('#df-db2295c0-dea9-4088-9688-fa67b80f06bb');\n",
              "        const dataTable =\n",
              "          await google.colab.kernel.invokeFunction('convertToInteractive',\n",
              "                                                    [key], {});\n",
              "        if (!dataTable) return;\n",
              "\n",
              "        const docLinkHtml = 'Like what you see? Visit the ' +\n",
              "          '<a target=\"_blank\" href=https://colab.research.google.com/notebooks/data_table.ipynb>data table notebook</a>'\n",
              "          + ' to learn more about interactive tables.';\n",
              "        element.innerHTML = '';\n",
              "        dataTable['output_type'] = 'display_data';\n",
              "        await google.colab.output.renderOutput(dataTable, element);\n",
              "        const docLink = document.createElement('div');\n",
              "        docLink.innerHTML = docLinkHtml;\n",
              "        element.appendChild(docLink);\n",
              "      }\n",
              "    </script>\n",
              "  </div>\n",
              "\n",
              "\n",
              "<div id=\"df-49df3d08-ac44-4a63-aba6-131923a15994\">\n",
              "  <button class=\"colab-df-quickchart\" onclick=\"quickchart('df-49df3d08-ac44-4a63-aba6-131923a15994')\"\n",
              "            title=\"Suggest charts\"\n",
              "            style=\"display:none;\">\n",
              "\n",
              "<svg xmlns=\"http://www.w3.org/2000/svg\" height=\"24px\"viewBox=\"0 0 24 24\"\n",
              "     width=\"24px\">\n",
              "    <g>\n",
              "        <path d=\"M19 3H5c-1.1 0-2 .9-2 2v14c0 1.1.9 2 2 2h14c1.1 0 2-.9 2-2V5c0-1.1-.9-2-2-2zM9 17H7v-7h2v7zm4 0h-2V7h2v10zm4 0h-2v-4h2v4z\"/>\n",
              "    </g>\n",
              "</svg>\n",
              "  </button>\n",
              "\n",
              "<style>\n",
              "  .colab-df-quickchart {\n",
              "      --bg-color: #E8F0FE;\n",
              "      --fill-color: #1967D2;\n",
              "      --hover-bg-color: #E2EBFA;\n",
              "      --hover-fill-color: #174EA6;\n",
              "      --disabled-fill-color: #AAA;\n",
              "      --disabled-bg-color: #DDD;\n",
              "  }\n",
              "\n",
              "  [theme=dark] .colab-df-quickchart {\n",
              "      --bg-color: #3B4455;\n",
              "      --fill-color: #D2E3FC;\n",
              "      --hover-bg-color: #434B5C;\n",
              "      --hover-fill-color: #FFFFFF;\n",
              "      --disabled-bg-color: #3B4455;\n",
              "      --disabled-fill-color: #666;\n",
              "  }\n",
              "\n",
              "  .colab-df-quickchart {\n",
              "    background-color: var(--bg-color);\n",
              "    border: none;\n",
              "    border-radius: 50%;\n",
              "    cursor: pointer;\n",
              "    display: none;\n",
              "    fill: var(--fill-color);\n",
              "    height: 32px;\n",
              "    padding: 0;\n",
              "    width: 32px;\n",
              "  }\n",
              "\n",
              "  .colab-df-quickchart:hover {\n",
              "    background-color: var(--hover-bg-color);\n",
              "    box-shadow: 0 1px 2px rgba(60, 64, 67, 0.3), 0 1px 3px 1px rgba(60, 64, 67, 0.15);\n",
              "    fill: var(--button-hover-fill-color);\n",
              "  }\n",
              "\n",
              "  .colab-df-quickchart-complete:disabled,\n",
              "  .colab-df-quickchart-complete:disabled:hover {\n",
              "    background-color: var(--disabled-bg-color);\n",
              "    fill: var(--disabled-fill-color);\n",
              "    box-shadow: none;\n",
              "  }\n",
              "\n",
              "  .colab-df-spinner {\n",
              "    border: 2px solid var(--fill-color);\n",
              "    border-color: transparent;\n",
              "    border-bottom-color: var(--fill-color);\n",
              "    animation:\n",
              "      spin 1s steps(1) infinite;\n",
              "  }\n",
              "\n",
              "  @keyframes spin {\n",
              "    0% {\n",
              "      border-color: transparent;\n",
              "      border-bottom-color: var(--fill-color);\n",
              "      border-left-color: var(--fill-color);\n",
              "    }\n",
              "    20% {\n",
              "      border-color: transparent;\n",
              "      border-left-color: var(--fill-color);\n",
              "      border-top-color: var(--fill-color);\n",
              "    }\n",
              "    30% {\n",
              "      border-color: transparent;\n",
              "      border-left-color: var(--fill-color);\n",
              "      border-top-color: var(--fill-color);\n",
              "      border-right-color: var(--fill-color);\n",
              "    }\n",
              "    40% {\n",
              "      border-color: transparent;\n",
              "      border-right-color: var(--fill-color);\n",
              "      border-top-color: var(--fill-color);\n",
              "    }\n",
              "    60% {\n",
              "      border-color: transparent;\n",
              "      border-right-color: var(--fill-color);\n",
              "    }\n",
              "    80% {\n",
              "      border-color: transparent;\n",
              "      border-right-color: var(--fill-color);\n",
              "      border-bottom-color: var(--fill-color);\n",
              "    }\n",
              "    90% {\n",
              "      border-color: transparent;\n",
              "      border-bottom-color: var(--fill-color);\n",
              "    }\n",
              "  }\n",
              "</style>\n",
              "\n",
              "  <script>\n",
              "    async function quickchart(key) {\n",
              "      const quickchartButtonEl =\n",
              "        document.querySelector('#' + key + ' button');\n",
              "      quickchartButtonEl.disabled = true;  // To prevent multiple clicks.\n",
              "      quickchartButtonEl.classList.add('colab-df-spinner');\n",
              "      try {\n",
              "        const charts = await google.colab.kernel.invokeFunction(\n",
              "            'suggestCharts', [key], {});\n",
              "      } catch (error) {\n",
              "        console.error('Error during call to suggestCharts:', error);\n",
              "      }\n",
              "      quickchartButtonEl.classList.remove('colab-df-spinner');\n",
              "      quickchartButtonEl.classList.add('colab-df-quickchart-complete');\n",
              "    }\n",
              "    (() => {\n",
              "      let quickchartButtonEl =\n",
              "        document.querySelector('#df-49df3d08-ac44-4a63-aba6-131923a15994 button');\n",
              "      quickchartButtonEl.style.display =\n",
              "        google.colab.kernel.accessAllowed ? 'block' : 'none';\n",
              "    })();\n",
              "  </script>\n",
              "</div>\n",
              "\n",
              "  <div id=\"id_41b5a0f9-415e-4c3b-9889-f631d4109a1f\">\n",
              "    <style>\n",
              "      .colab-df-generate {\n",
              "        background-color: #E8F0FE;\n",
              "        border: none;\n",
              "        border-radius: 50%;\n",
              "        cursor: pointer;\n",
              "        display: none;\n",
              "        fill: #1967D2;\n",
              "        height: 32px;\n",
              "        padding: 0 0 0 0;\n",
              "        width: 32px;\n",
              "      }\n",
              "\n",
              "      .colab-df-generate:hover {\n",
              "        background-color: #E2EBFA;\n",
              "        box-shadow: 0px 1px 2px rgba(60, 64, 67, 0.3), 0px 1px 3px 1px rgba(60, 64, 67, 0.15);\n",
              "        fill: #174EA6;\n",
              "      }\n",
              "\n",
              "      [theme=dark] .colab-df-generate {\n",
              "        background-color: #3B4455;\n",
              "        fill: #D2E3FC;\n",
              "      }\n",
              "\n",
              "      [theme=dark] .colab-df-generate:hover {\n",
              "        background-color: #434B5C;\n",
              "        box-shadow: 0px 1px 3px 1px rgba(0, 0, 0, 0.15);\n",
              "        filter: drop-shadow(0px 1px 2px rgba(0, 0, 0, 0.3));\n",
              "        fill: #FFFFFF;\n",
              "      }\n",
              "    </style>\n",
              "    <button class=\"colab-df-generate\" onclick=\"generateWithVariable('df')\"\n",
              "            title=\"Generate code using this dataframe.\"\n",
              "            style=\"display:none;\">\n",
              "\n",
              "  <svg xmlns=\"http://www.w3.org/2000/svg\" height=\"24px\"viewBox=\"0 0 24 24\"\n",
              "       width=\"24px\">\n",
              "    <path d=\"M7,19H8.4L18.45,9,17,7.55,7,17.6ZM5,21V16.75L18.45,3.32a2,2,0,0,1,2.83,0l1.4,1.43a1.91,1.91,0,0,1,.58,1.4,1.91,1.91,0,0,1-.58,1.4L9.25,21ZM18.45,9,17,7.55Zm-12,3A5.31,5.31,0,0,0,4.9,8.1,5.31,5.31,0,0,0,1,6.5,5.31,5.31,0,0,0,4.9,4.9,5.31,5.31,0,0,0,6.5,1,5.31,5.31,0,0,0,8.1,4.9,5.31,5.31,0,0,0,12,6.5,5.46,5.46,0,0,0,6.5,12Z\"/>\n",
              "  </svg>\n",
              "    </button>\n",
              "    <script>\n",
              "      (() => {\n",
              "      const buttonEl =\n",
              "        document.querySelector('#id_41b5a0f9-415e-4c3b-9889-f631d4109a1f button.colab-df-generate');\n",
              "      buttonEl.style.display =\n",
              "        google.colab.kernel.accessAllowed ? 'block' : 'none';\n",
              "\n",
              "      buttonEl.onclick = () => {\n",
              "        google.colab.notebook.generateWithVariable('df');\n",
              "      }\n",
              "      })();\n",
              "    </script>\n",
              "  </div>\n",
              "\n",
              "    </div>\n",
              "  </div>\n"
            ]
          },
          "metadata": {},
          "execution_count": 126
        }
      ],
      "source": [
        "df"
      ],
      "id": "rqDfJfBnuxfR"
    },
    {
      "cell_type": "markdown",
      "metadata": {
        "id": "BUsSGbTXuxfR"
      },
      "source": [
        "Distribution of price"
      ],
      "id": "BUsSGbTXuxfR"
    },
    {
      "cell_type": "code",
      "execution_count": 127,
      "metadata": {
        "id": "2-GN0XRzuxfS"
      },
      "outputs": [],
      "source": [
        "import matplotlib.pyplot as plt\n",
        "import seaborn as sns\n",
        "\n",
        "%matplotlib inline"
      ],
      "id": "2-GN0XRzuxfS"
    },
    {
      "cell_type": "code",
      "execution_count": 128,
      "metadata": {
        "colab": {
          "base_uri": "https://localhost:8080/",
          "height": 278
        },
        "id": "kA0TVLffuxfS",
        "outputId": "ce8af974-5780-4cd4-abb9-02d94ddcd479"
      },
      "outputs": [
        {
          "output_type": "execute_result",
          "data": {
            "text/plain": [
              "<Axes: xlabel='msrp', ylabel='Count'>"
            ]
          },
          "metadata": {},
          "execution_count": 128
        },
        {
          "output_type": "display_data",
          "data": {
            "text/plain": [
              "<Figure size 640x480 with 1 Axes>"
            ],
            "image/png": "[encoded data removed]"
          },
          "metadata": {}
        }
      ],
      "source": [
        "sns.histplot(df.msrp, bins=50)"
      ],
      "id": "kA0TVLffuxfS"
    },
    {
      "cell_type": "code",
      "execution_count": 129,
      "metadata": {
        "colab": {
          "base_uri": "https://localhost:8080/",
          "height": 277
        },
        "id": "jNhiWFAHuxfS",
        "outputId": "c85f0b6f-fdac-448c-fa4d-dca6f8b10490"
      },
      "outputs": [
        {
          "output_type": "execute_result",
          "data": {
            "text/plain": [
              "<Axes: xlabel='msrp', ylabel='Count'>"
            ]
          },
          "metadata": {},
          "execution_count": 129
        },
        {
          "output_type": "display_data",
          "data": {
            "text/plain": [
              "<Figure size 640x480 with 1 Axes>"
            ],
            "image/png": "[encoded data removed]"
          },
          "metadata": {}
        }
      ],
      "source": [
        "sns.histplot(df.msrp[df.msrp < 100000], bins=50)"
      ],
      "id": "jNhiWFAHuxfS"
    },
    {
      "cell_type": "code",
      "execution_count": 130,
      "metadata": {
        "colab": {
          "base_uri": "https://localhost:8080/"
        },
        "id": "9x1j57_fuxfT",
        "outputId": "08a72724-f7dd-439b-e7f8-695d24670f61"
      },
      "outputs": [
        {
          "output_type": "execute_result",
          "data": {
            "text/plain": [
              "array([ 0.        ,  0.69314718,  2.39789527,  6.90875478, 11.51293546])"
            ]
          },
          "metadata": {},
          "execution_count": 130
        }
      ],
      "source": [
        "np.log1p([0, 1, 10, 1000, 100000])"
      ],
      "id": "9x1j57_fuxfT"
    },
    {
      "cell_type": "code",
      "execution_count": 131,
      "metadata": {
        "colab": {
          "base_uri": "https://localhost:8080/"
        },
        "id": "xPIuo01AuxfT",
        "outputId": "628d4c91-2b74-4678-f541-e5d408dbffc8"
      },
      "outputs": [
        {
          "output_type": "execute_result",
          "data": {
            "text/plain": [
              "array([ 0.        ,  0.69314718,  2.39789527,  6.90875478, 11.51292546])"
            ]
          },
          "metadata": {},
          "execution_count": 131
        }
      ],
      "source": [
        "np.log([0 + 1, 1+ 1, 10 + 1, 1000 + 1, 100000])"
      ],
      "id": "xPIuo01AuxfT"
    },
    {
      "cell_type": "code",
      "execution_count": 132,
      "metadata": {
        "id": "U0OgpRiMuxfU"
      },
      "outputs": [],
      "source": [
        "price_logs = np.log1p(df.msrp)"
      ],
      "id": "U0OgpRiMuxfU"
    },
    {
      "cell_type": "code",
      "execution_count": 133,
      "metadata": {
        "colab": {
          "base_uri": "https://localhost:8080/",
          "height": 278
        },
        "id": "rJ07pPvhuxfU",
        "outputId": "46bd03d5-0361-4031-ddf1-2c22eb393dc8"
      },
      "outputs": [
        {
          "output_type": "execute_result",
          "data": {
            "text/plain": [
              "<Axes: xlabel='msrp', ylabel='Count'>"
            ]
          },
          "metadata": {},
          "execution_count": 133
        },
        {
          "output_type": "display_data",
          "data": {
            "text/plain": [
              "<Figure size 640x480 with 1 Axes>"
            ],
            "image/png": "[encoded data removed]"
          },
          "metadata": {}
        }
      ],
      "source": [
        "\n",
        "sns.histplot(price_logs, bins=50)"
      ],
      "id": "rJ07pPvhuxfU"
    },
    {
      "cell_type": "markdown",
      "metadata": {
        "id": "dhu9ZlrnuxfV"
      },
      "source": [
        "Missing values"
      ],
      "id": "dhu9ZlrnuxfV"
    },
    {
      "cell_type": "code",
      "execution_count": 134,
      "metadata": {
        "colab": {
          "base_uri": "https://localhost:8080/"
        },
        "id": "icri37sEuxfV",
        "outputId": "f78b5c4a-e56a-4f05-8e4e-78e8f9f48a45"
      },
      "outputs": [
        {
          "output_type": "execute_result",
          "data": {
            "text/plain": [
              "make                    0\n",
              "model                   0\n",
              "year                    0\n",
              "engine_fuel_type        3\n",
              "engine_hp              69\n",
              "engine_cylinders       30\n",
              "transmission_type       0\n",
              "driven_wheels           0\n",
              "number_of_doors         6\n",
              "market_category      3742\n",
              "vehicle_size            0\n",
              "vehicle_style           0\n",
              "highway_mpg             0\n",
              "city_mpg                0\n",
              "popularity              0\n",
              "msrp                    0\n",
              "dtype: int64"
            ]
          },
          "metadata": {},
          "execution_count": 134
        }
      ],
      "source": [
        "df.isnull().sum()"
      ],
      "id": "icri37sEuxfV"
    },
    {
      "cell_type": "markdown",
      "metadata": {
        "id": "GVD3nYMbuxfV"
      },
      "source": [
        "## 2.4 Setting up the validation framework"
      ],
      "id": "GVD3nYMbuxfV"
    },
    {
      "cell_type": "markdown",
      "metadata": {
        "id": "6Xi248PHuxfW"
      },
      "source": [
        "Let's draw it"
      ],
      "id": "6Xi248PHuxfW"
    },
    {
      "cell_type": "code",
      "execution_count": 135,
      "metadata": {
        "id": "HnIWG8wnuxfW"
      },
      "outputs": [],
      "source": [
        "n = len(df)\n",
        "\n",
        "n_val = int(n * 0.2)\n",
        "n_test = int(n * 0.2)\n",
        "n_train = n - n_val - n_test"
      ],
      "id": "HnIWG8wnuxfW"
    },
    {
      "cell_type": "code",
      "execution_count": 136,
      "metadata": {
        "colab": {
          "base_uri": "https://localhost:8080/"
        },
        "id": "U8pIJX56uxfW",
        "outputId": "6460b154-e078-4197-f544-f5335f179d35"
      },
      "outputs": [
        {
          "output_type": "execute_result",
          "data": {
            "text/plain": [
              "11914"
            ]
          },
          "metadata": {},
          "execution_count": 136
        }
      ],
      "source": [
        "n"
      ],
      "id": "U8pIJX56uxfW"
    },
    {
      "cell_type": "code",
      "execution_count": 137,
      "metadata": {
        "colab": {
          "base_uri": "https://localhost:8080/"
        },
        "id": "SUM5i8hKuxfW",
        "outputId": "ea505ded-fdc4-40dc-bcbe-ddc7da4a1c92"
      },
      "outputs": [
        {
          "output_type": "execute_result",
          "data": {
            "text/plain": [
              "(2382, 2382, 7150)"
            ]
          },
          "metadata": {},
          "execution_count": 137
        }
      ],
      "source": [
        "n_val, n_test, n_train"
      ],
      "id": "SUM5i8hKuxfW"
    },
    {
      "cell_type": "code",
      "execution_count": 138,
      "metadata": {
        "colab": {
          "base_uri": "https://localhost:8080/",
          "height": 212
        },
        "id": "nppLqDLCuxfX",
        "outputId": "e04fcf2c-2df4-46d9-e4ef-801911e6ad02"
      },
      "outputs": [
        {
          "output_type": "execute_result",
          "data": {
            "text/plain": [
              "   make       model  year             engine_fuel_type  engine_hp  \\\n",
              "10  bmw    1_series  2013  premium_unleaded_(required)      300.0   \n",
              "0   bmw  1_series_m  2011  premium_unleaded_(required)      335.0   \n",
              "3   bmw    1_series  2011  premium_unleaded_(required)      230.0   \n",
              "5   bmw    1_series  2012  premium_unleaded_(required)      230.0   \n",
              "\n",
              "    engine_cylinders transmission_type     driven_wheels  number_of_doors  \\\n",
              "10               6.0            manual  rear_wheel_drive              2.0   \n",
              "0                6.0            manual  rear_wheel_drive              2.0   \n",
              "3                6.0            manual  rear_wheel_drive              2.0   \n",
              "5                6.0            manual  rear_wheel_drive              2.0   \n",
              "\n",
              "                          market_category vehicle_size vehicle_style  \\\n",
              "10                luxury,high-performance      compact         coupe   \n",
              "0   factory_tuner,luxury,high-performance      compact         coupe   \n",
              "3                      luxury,performance      compact         coupe   \n",
              "5                      luxury,performance      compact         coupe   \n",
              "\n",
              "    highway_mpg  city_mpg  popularity   msrp  \n",
              "10           28        20        3916  39600  \n",
              "0            26        19        3916  46135  \n",
              "3            28        18        3916  29450  \n",
              "5            28        18        3916  31200  "
            ],
            "text/html": [
              "\n",
              "  <div id=\"df-8847bc25-4876-48e5-8ce9-2ce37c3ad302\" class=\"colab-df-container\">\n",
              "    <div>\n",
              "<style scoped>\n",
              "    .dataframe tbody tr th:only-of-type {\n",
              "        vertical-align: middle;\n",
              "    }\n",
              "\n",
              "    .dataframe tbody tr th {\n",
              "        vertical-align: top;\n",
              "    }\n",
              "\n",
              "    .dataframe thead th {\n",
              "        text-align: right;\n",
              "    }\n",
              "</style>\n",
              "<table border=\"1\" class=\"dataframe\">\n",
              "  <thead>\n",
              "    <tr style=\"text-align: right;\">\n",
              "      <th></th>\n",
              "      <th>make</th>\n",
              "      <th>model</th>\n",
              "      <th>year</th>\n",
              "      <th>engine_fuel_type</th>\n",
              "      <th>engine_hp</th>\n",
              "      <th>engine_cylinders</th>\n",
              "      <th>transmission_type</th>\n",
              "      <th>driven_wheels</th>\n",
              "      <th>number_of_doors</th>\n",
              "      <th>market_category</th>\n",
              "      <th>vehicle_size</th>\n",
              "      <th>vehicle_style</th>\n",
              "      <th>highway_mpg</th>\n",
              "      <th>city_mpg</th>\n",
              "      <th>popularity</th>\n",
              "      <th>msrp</th>\n",
              "    </tr>\n",
              "  </thead>\n",
              "  <tbody>\n",
              "    <tr>\n",
              "      <th>10</th>\n",
              "      <td>bmw</td>\n",
              "      <td>1_series</td>\n",
              "      <td>2013</td>\n",
              "      <td>premium_unleaded_(required)</td>\n",
              "      <td>300.0</td>\n",
              "      <td>6.0</td>\n",
              "      <td>manual</td>\n",
              "      <td>rear_wheel_drive</td>\n",
              "      <td>2.0</td>\n",
              "      <td>luxury,high-performance</td>\n",
              "      <td>compact</td>\n",
              "      <td>coupe</td>\n",
              "      <td>28</td>\n",
              "      <td>20</td>\n",
              "      <td>3916</td>\n",
              "      <td>39600</td>\n",
              "    </tr>\n",
              "    <tr>\n",
              "      <th>0</th>\n",
              "      <td>bmw</td>\n",
              "      <td>1_series_m</td>\n",
              "      <td>2011</td>\n",
              "      <td>premium_unleaded_(required)</td>\n",
              "      <td>335.0</td>\n",
              "      <td>6.0</td>\n",
              "      <td>manual</td>\n",
              "      <td>rear_wheel_drive</td>\n",
              "      <td>2.0</td>\n",
              "      <td>factory_tuner,luxury,high-performance</td>\n",
              "      <td>compact</td>\n",
              "      <td>coupe</td>\n",
              "      <td>26</td>\n",
              "      <td>19</td>\n",
              "      <td>3916</td>\n",
              "      <td>46135</td>\n",
              "    </tr>\n",
              "    <tr>\n",
              "      <th>3</th>\n",
              "      <td>bmw</td>\n",
              "      <td>1_series</td>\n",
              "      <td>2011</td>\n",
              "      <td>premium_unleaded_(required)</td>\n",
              "      <td>230.0</td>\n",
              "      <td>6.0</td>\n",
              "      <td>manual</td>\n",
              "      <td>rear_wheel_drive</td>\n",
              "      <td>2.0</td>\n",
              "      <td>luxury,performance</td>\n",
              "      <td>compact</td>\n",
              "      <td>coupe</td>\n",
              "      <td>28</td>\n",
              "      <td>18</td>\n",
              "      <td>3916</td>\n",
              "      <td>29450</td>\n",
              "    </tr>\n",
              "    <tr>\n",
              "      <th>5</th>\n",
              "      <td>bmw</td>\n",
              "      <td>1_series</td>\n",
              "      <td>2012</td>\n",
              "      <td>premium_unleaded_(required)</td>\n",
              "      <td>230.0</td>\n",
              "      <td>6.0</td>\n",
              "      <td>manual</td>\n",
              "      <td>rear_wheel_drive</td>\n",
              "      <td>2.0</td>\n",
              "      <td>luxury,performance</td>\n",
              "      <td>compact</td>\n",
              "      <td>coupe</td>\n",
              "      <td>28</td>\n",
              "      <td>18</td>\n",
              "      <td>3916</td>\n",
              "      <td>31200</td>\n",
              "    </tr>\n",
              "  </tbody>\n",
              "</table>\n",
              "</div>\n",
              "    <div class=\"colab-df-buttons\">\n",
              "\n",
              "  <div class=\"colab-df-container\">\n",
              "    <button class=\"colab-df-convert\" onclick=\"convertToInteractive('df-8847bc25-4876-48e5-8ce9-2ce37c3ad302')\"\n",
              "            title=\"Convert this dataframe to an interactive table.\"\n",
              "            style=\"display:none;\">\n",
              "\n",
              "  <svg xmlns=\"http://www.w3.org/2000/svg\" height=\"24px\" viewBox=\"0 -960 960 960\">\n",
              "    <path d=\"M120-120v-720h720v720H120Zm60-500h600v-160H180v160Zm220 220h160v-160H400v160Zm0 220h160v-160H400v160ZM180-400h160v-160H180v160Zm440 0h160v-160H620v160ZM180-180h160v-160H180v160Zm440 0h160v-160H620v160Z\"/>\n",
              "  </svg>\n",
              "    </button>\n",
              "\n",
              "  <style>\n",
              "    .colab-df-container {\n",
              "      display:flex;\n",
              "      gap: 12px;\n",
              "    }\n",
              "\n",
              "    .colab-df-convert {\n",
              "      background-color: #E8F0FE;\n",
              "      border: none;\n",
              "      border-radius: 50%;\n",
              "      cursor: pointer;\n",
              "      display: none;\n",
              "      fill: #1967D2;\n",
              "      height: 32px;\n",
              "      padding: 0 0 0 0;\n",
              "      width: 32px;\n",
              "    }\n",
              "\n",
              "    .colab-df-convert:hover {\n",
              "      background-color: #E2EBFA;\n",
              "      box-shadow: 0px 1px 2px rgba(60, 64, 67, 0.3), 0px 1px 3px 1px rgba(60, 64, 67, 0.15);\n",
              "      fill: #174EA6;\n",
              "    }\n",
              "\n",
              "    .colab-df-buttons div {\n",
              "      margin-bottom: 4px;\n",
              "    }\n",
              "\n",
              "    [theme=dark] .colab-df-convert {\n",
              "      background-color: #3B4455;\n",
              "      fill: #D2E3FC;\n",
              "    }\n",
              "\n",
              "    [theme=dark] .colab-df-convert:hover {\n",
              "      background-color: #434B5C;\n",
              "      box-shadow: 0px 1px 3px 1px rgba(0, 0, 0, 0.15);\n",
              "      filter: drop-shadow(0px 1px 2px rgba(0, 0, 0, 0.3));\n",
              "      fill: #FFFFFF;\n",
              "    }\n",
              "  </style>\n",
              "\n",
              "    <script>\n",
              "      const buttonEl =\n",
              "        document.querySelector('#df-8847bc25-4876-48e5-8ce9-2ce37c3ad302 button.colab-df-convert');\n",
              "      buttonEl.style.display =\n",
              "        google.colab.kernel.accessAllowed ? 'block' : 'none';\n",
              "\n",
              "      async function convertToInteractive(key) {\n",
              "        const element = document.querySelector('#df-8847bc25-4876-48e5-8ce9-2ce37c3ad302');\n",
              "        const dataTable =\n",
              "          await google.colab.kernel.invokeFunction('convertToInteractive',\n",
              "                                                    [key], {});\n",
              "        if (!dataTable) return;\n",
              "\n",
              "        const docLinkHtml = 'Like what you see? Visit the ' +\n",
              "          '<a target=\"_blank\" href=https://colab.research.google.com/notebooks/data_table.ipynb>data table notebook</a>'\n",
              "          + ' to learn more about interactive tables.';\n",
              "        element.innerHTML = '';\n",
              "        dataTable['output_type'] = 'display_data';\n",
              "        await google.colab.output.renderOutput(dataTable, element);\n",
              "        const docLink = document.createElement('div');\n",
              "        docLink.innerHTML = docLinkHtml;\n",
              "        element.appendChild(docLink);\n",
              "      }\n",
              "    </script>\n",
              "  </div>\n",
              "\n",
              "\n",
              "<div id=\"df-85ae68d6-ed0a-457f-b3eb-608a5be3e788\">\n",
              "  <button class=\"colab-df-quickchart\" onclick=\"quickchart('df-85ae68d6-ed0a-457f-b3eb-608a5be3e788')\"\n",
              "            title=\"Suggest charts\"\n",
              "            style=\"display:none;\">\n",
              "\n",
              "<svg xmlns=\"http://www.w3.org/2000/svg\" height=\"24px\"viewBox=\"0 0 24 24\"\n",
              "     width=\"24px\">\n",
              "    <g>\n",
              "        <path d=\"M19 3H5c-1.1 0-2 .9-2 2v14c0 1.1.9 2 2 2h14c1.1 0 2-.9 2-2V5c0-1.1-.9-2-2-2zM9 17H7v-7h2v7zm4 0h-2V7h2v10zm4 0h-2v-4h2v4z\"/>\n",
              "    </g>\n",
              "</svg>\n",
              "  </button>\n",
              "\n",
              "<style>\n",
              "  .colab-df-quickchart {\n",
              "      --bg-color: #E8F0FE;\n",
              "      --fill-color: #1967D2;\n",
              "      --hover-bg-color: #E2EBFA;\n",
              "      --hover-fill-color: #174EA6;\n",
              "      --disabled-fill-color: #AAA;\n",
              "      --disabled-bg-color: #DDD;\n",
              "  }\n",
              "\n",
              "  [theme=dark] .colab-df-quickchart {\n",
              "      --bg-color: #3B4455;\n",
              "      --fill-color: #D2E3FC;\n",
              "      --hover-bg-color: #434B5C;\n",
              "      --hover-fill-color: #FFFFFF;\n",
              "      --disabled-bg-color: #3B4455;\n",
              "      --disabled-fill-color: #666;\n",
              "  }\n",
              "\n",
              "  .colab-df-quickchart {\n",
              "    background-color: var(--bg-color);\n",
              "    border: none;\n",
              "    border-radius: 50%;\n",
              "    cursor: pointer;\n",
              "    display: none;\n",
              "    fill: var(--fill-color);\n",
              "    height: 32px;\n",
              "    padding: 0;\n",
              "    width: 32px;\n",
              "  }\n",
              "\n",
              "  .colab-df-quickchart:hover {\n",
              "    background-color: var(--hover-bg-color);\n",
              "    box-shadow: 0 1px 2px rgba(60, 64, 67, 0.3), 0 1px 3px 1px rgba(60, 64, 67, 0.15);\n",
              "    fill: var(--button-hover-fill-color);\n",
              "  }\n",
              "\n",
              "  .colab-df-quickchart-complete:disabled,\n",
              "  .colab-df-quickchart-complete:disabled:hover {\n",
              "    background-color: var(--disabled-bg-color);\n",
              "    fill: var(--disabled-fill-color);\n",
              "    box-shadow: none;\n",
              "  }\n",
              "\n",
              "  .colab-df-spinner {\n",
              "    border: 2px solid var(--fill-color);\n",
              "    border-color: transparent;\n",
              "    border-bottom-color: var(--fill-color);\n",
              "    animation:\n",
              "      spin 1s steps(1) infinite;\n",
              "  }\n",
              "\n",
              "  @keyframes spin {\n",
              "    0% {\n",
              "      border-color: transparent;\n",
              "      border-bottom-color: var(--fill-color);\n",
              "      border-left-color: var(--fill-color);\n",
              "    }\n",
              "    20% {\n",
              "      border-color: transparent;\n",
              "      border-left-color: var(--fill-color);\n",
              "      border-top-color: var(--fill-color);\n",
              "    }\n",
              "    30% {\n",
              "      border-color: transparent;\n",
              "      border-left-color: var(--fill-color);\n",
              "      border-top-color: var(--fill-color);\n",
              "      border-right-color: var(--fill-color);\n",
              "    }\n",
              "    40% {\n",
              "      border-color: transparent;\n",
              "      border-right-color: var(--fill-color);\n",
              "      border-top-color: var(--fill-color);\n",
              "    }\n",
              "    60% {\n",
              "      border-color: transparent;\n",
              "      border-right-color: var(--fill-color);\n",
              "    }\n",
              "    80% {\n",
              "      border-color: transparent;\n",
              "      border-right-color: var(--fill-color);\n",
              "      border-bottom-color: var(--fill-color);\n",
              "    }\n",
              "    90% {\n",
              "      border-color: transparent;\n",
              "      border-bottom-color: var(--fill-color);\n",
              "    }\n",
              "  }\n",
              "</style>\n",
              "\n",
              "  <script>\n",
              "    async function quickchart(key) {\n",
              "      const quickchartButtonEl =\n",
              "        document.querySelector('#' + key + ' button');\n",
              "      quickchartButtonEl.disabled = true;  // To prevent multiple clicks.\n",
              "      quickchartButtonEl.classList.add('colab-df-spinner');\n",
              "      try {\n",
              "        const charts = await google.colab.kernel.invokeFunction(\n",
              "            'suggestCharts', [key], {});\n",
              "      } catch (error) {\n",
              "        console.error('Error during call to suggestCharts:', error);\n",
              "      }\n",
              "      quickchartButtonEl.classList.remove('colab-df-spinner');\n",
              "      quickchartButtonEl.classList.add('colab-df-quickchart-complete');\n",
              "    }\n",
              "    (() => {\n",
              "      let quickchartButtonEl =\n",
              "        document.querySelector('#df-85ae68d6-ed0a-457f-b3eb-608a5be3e788 button');\n",
              "      quickchartButtonEl.style.display =\n",
              "        google.colab.kernel.accessAllowed ? 'block' : 'none';\n",
              "    })();\n",
              "  </script>\n",
              "</div>\n",
              "\n",
              "    </div>\n",
              "  </div>\n"
            ]
          },
          "metadata": {},
          "execution_count": 138
        }
      ],
      "source": [
        "df.iloc[[10, 0, 3, 5]]"
      ],
      "id": "nppLqDLCuxfX"
    },
    {
      "cell_type": "code",
      "execution_count": 139,
      "metadata": {
        "id": "9LIyE260uxfX"
      },
      "outputs": [],
      "source": [
        "df_train = df.iloc[:n_train]\n",
        "df_val = df.iloc[n_train:n_train+n_val]\n",
        "df_test = df.iloc[n_train+n_val:]"
      ],
      "id": "9LIyE260uxfX"
    },
    {
      "cell_type": "code",
      "execution_count": 140,
      "metadata": {
        "id": "0e-Yzg01uxfX"
      },
      "outputs": [],
      "source": [
        "idx = np.arange(n)"
      ],
      "id": "0e-Yzg01uxfX"
    },
    {
      "cell_type": "code",
      "execution_count": 141,
      "metadata": {
        "id": "x6t6e5p0uxfY"
      },
      "outputs": [],
      "source": [
        "np.random.seed(2)\n",
        "np.random.shuffle(idx)"
      ],
      "id": "x6t6e5p0uxfY"
    },
    {
      "cell_type": "code",
      "execution_count": 142,
      "metadata": {
        "id": "v7xuoFUnuxfY"
      },
      "outputs": [],
      "source": [
        "df_train = df.iloc[idx[:n_train]]\n",
        "df_val = df.iloc[idx[n_train:n_train+n_val]]\n",
        "df_test = df.iloc[idx[n_train+n_val:]]"
      ],
      "id": "v7xuoFUnuxfY"
    },
    {
      "cell_type": "code",
      "execution_count": 143,
      "metadata": {
        "colab": {
          "base_uri": "https://localhost:8080/",
          "height": 243
        },
        "id": "5CX7W3E9uxfY",
        "outputId": "7d94de70-77c3-4ac2-9d39-2ce07dda0ee5"
      },
      "outputs": [
        {
          "output_type": "execute_result",
          "data": {
            "text/plain": [
              "             make    model  year          engine_fuel_type  engine_hp  \\\n",
              "2735    chevrolet   cobalt  2008          regular_unleaded      148.0   \n",
              "6720       toyota   matrix  2012          regular_unleaded      132.0   \n",
              "5878       subaru  impreza  2016          regular_unleaded      148.0   \n",
              "11190  volkswagen  vanagon  1991          regular_unleaded       90.0   \n",
              "4554         ford    f-150  2017  flex-fuel_(unleaded/e85)      385.0   \n",
              "\n",
              "       engine_cylinders transmission_type      driven_wheels  number_of_doors  \\\n",
              "2735                4.0            manual  front_wheel_drive              2.0   \n",
              "6720                4.0         automatic  front_wheel_drive              4.0   \n",
              "5878                4.0         automatic    all_wheel_drive              4.0   \n",
              "11190               4.0            manual   rear_wheel_drive              3.0   \n",
              "4554                8.0         automatic   four_wheel_drive              4.0   \n",
              "\n",
              "      market_category vehicle_size      vehicle_style  highway_mpg  city_mpg  \\\n",
              "2735              NaN      compact              coupe           33        24   \n",
              "6720        hatchback      compact      4dr_hatchback           32        25   \n",
              "5878        hatchback      compact      4dr_hatchback           37        28   \n",
              "11190             NaN        large  passenger_minivan           18        16   \n",
              "4554        flex_fuel        large    crew_cab_pickup           21        15   \n",
              "\n",
              "       popularity   msrp  \n",
              "2735         1385  14410  \n",
              "6720         2031  19685  \n",
              "5878          640  19795  \n",
              "11190         873   2000  \n",
              "4554         5657  56260  "
            ],
            "text/html": [
              "\n",
              "  <div id=\"df-9804035c-bdc0-4346-a274-a15899e5e6ad\" class=\"colab-df-container\">\n",
              "    <div>\n",
              "<style scoped>\n",
              "    .dataframe tbody tr th:only-of-type {\n",
              "        vertical-align: middle;\n",
              "    }\n",
              "\n",
              "    .dataframe tbody tr th {\n",
              "        vertical-align: top;\n",
              "    }\n",
              "\n",
              "    .dataframe thead th {\n",
              "        text-align: right;\n",
              "    }\n",
              "</style>\n",
              "<table border=\"1\" class=\"dataframe\">\n",
              "  <thead>\n",
              "    <tr style=\"text-align: right;\">\n",
              "      <th></th>\n",
              "      <th>make</th>\n",
              "      <th>model</th>\n",
              "      <th>year</th>\n",
              "      <th>engine_fuel_type</th>\n",
              "      <th>engine_hp</th>\n",
              "      <th>engine_cylinders</th>\n",
              "      <th>transmission_type</th>\n",
              "      <th>driven_wheels</th>\n",
              "      <th>number_of_doors</th>\n",
              "      <th>market_category</th>\n",
              "      <th>vehicle_size</th>\n",
              "      <th>vehicle_style</th>\n",
              "      <th>highway_mpg</th>\n",
              "      <th>city_mpg</th>\n",
              "      <th>popularity</th>\n",
              "      <th>msrp</th>\n",
              "    </tr>\n",
              "  </thead>\n",
              "  <tbody>\n",
              "    <tr>\n",
              "      <th>2735</th>\n",
              "      <td>chevrolet</td>\n",
              "      <td>cobalt</td>\n",
              "      <td>2008</td>\n",
              "      <td>regular_unleaded</td>\n",
              "      <td>148.0</td>\n",
              "      <td>4.0</td>\n",
              "      <td>manual</td>\n",
              "      <td>front_wheel_drive</td>\n",
              "      <td>2.0</td>\n",
              "      <td>NaN</td>\n",
              "      <td>compact</td>\n",
              "      <td>coupe</td>\n",
              "      <td>33</td>\n",
              "      <td>24</td>\n",
              "      <td>1385</td>\n",
              "      <td>14410</td>\n",
              "    </tr>\n",
              "    <tr>\n",
              "      <th>6720</th>\n",
              "      <td>toyota</td>\n",
              "      <td>matrix</td>\n",
              "      <td>2012</td>\n",
              "      <td>regular_unleaded</td>\n",
              "      <td>132.0</td>\n",
              "      <td>4.0</td>\n",
              "      <td>automatic</td>\n",
              "      <td>front_wheel_drive</td>\n",
              "      <td>4.0</td>\n",
              "      <td>hatchback</td>\n",
              "      <td>compact</td>\n",
              "      <td>4dr_hatchback</td>\n",
              "      <td>32</td>\n",
              "      <td>25</td>\n",
              "      <td>2031</td>\n",
              "      <td>19685</td>\n",
              "    </tr>\n",
              "    <tr>\n",
              "      <th>5878</th>\n",
              "      <td>subaru</td>\n",
              "      <td>impreza</td>\n",
              "      <td>2016</td>\n",
              "      <td>regular_unleaded</td>\n",
              "      <td>148.0</td>\n",
              "      <td>4.0</td>\n",
              "      <td>automatic</td>\n",
              "      <td>all_wheel_drive</td>\n",
              "      <td>4.0</td>\n",
              "      <td>hatchback</td>\n",
              "      <td>compact</td>\n",
              "      <td>4dr_hatchback</td>\n",
              "      <td>37</td>\n",
              "      <td>28</td>\n",
              "      <td>640</td>\n",
              "      <td>19795</td>\n",
              "    </tr>\n",
              "    <tr>\n",
              "      <th>11190</th>\n",
              "      <td>volkswagen</td>\n",
              "      <td>vanagon</td>\n",
              "      <td>1991</td>\n",
              "      <td>regular_unleaded</td>\n",
              "      <td>90.0</td>\n",
              "      <td>4.0</td>\n",
              "      <td>manual</td>\n",
              "      <td>rear_wheel_drive</td>\n",
              "      <td>3.0</td>\n",
              "      <td>NaN</td>\n",
              "      <td>large</td>\n",
              "      <td>passenger_minivan</td>\n",
              "      <td>18</td>\n",
              "      <td>16</td>\n",
              "      <td>873</td>\n",
              "      <td>2000</td>\n",
              "    </tr>\n",
              "    <tr>\n",
              "      <th>4554</th>\n",
              "      <td>ford</td>\n",
              "      <td>f-150</td>\n",
              "      <td>2017</td>\n",
              "      <td>flex-fuel_(unleaded/e85)</td>\n",
              "      <td>385.0</td>\n",
              "      <td>8.0</td>\n",
              "      <td>automatic</td>\n",
              "      <td>four_wheel_drive</td>\n",
              "      <td>4.0</td>\n",
              "      <td>flex_fuel</td>\n",
              "      <td>large</td>\n",
              "      <td>crew_cab_pickup</td>\n",
              "      <td>21</td>\n",
              "      <td>15</td>\n",
              "      <td>5657</td>\n",
              "      <td>56260</td>\n",
              "    </tr>\n",
              "  </tbody>\n",
              "</table>\n",
              "</div>\n",
              "    <div class=\"colab-df-buttons\">\n",
              "\n",
              "  <div class=\"colab-df-container\">\n",
              "    <button class=\"colab-df-convert\" onclick=\"convertToInteractive('df-9804035c-bdc0-4346-a274-a15899e5e6ad')\"\n",
              "            title=\"Convert this dataframe to an interactive table.\"\n",
              "            style=\"display:none;\">\n",
              "\n",
              "  <svg xmlns=\"http://www.w3.org/2000/svg\" height=\"24px\" viewBox=\"0 -960 960 960\">\n",
              "    <path d=\"M120-120v-720h720v720H120Zm60-500h600v-160H180v160Zm220 220h160v-160H400v160Zm0 220h160v-160H400v160ZM180-400h160v-160H180v160Zm440 0h160v-160H620v160ZM180-180h160v-160H180v160Zm440 0h160v-160H620v160Z\"/>\n",
              "  </svg>\n",
              "    </button>\n",
              "\n",
              "  <style>\n",
              "    .colab-df-container {\n",
              "      display:flex;\n",
              "      gap: 12px;\n",
              "    }\n",
              "\n",
              "    .colab-df-convert {\n",
              "      background-color: #E8F0FE;\n",
              "      border: none;\n",
              "      border-radius: 50%;\n",
              "      cursor: pointer;\n",
              "      display: none;\n",
              "      fill: #1967D2;\n",
              "      height: 32px;\n",
              "      padding: 0 0 0 0;\n",
              "      width: 32px;\n",
              "    }\n",
              "\n",
              "    .colab-df-convert:hover {\n",
              "      background-color: #E2EBFA;\n",
              "      box-shadow: 0px 1px 2px rgba(60, 64, 67, 0.3), 0px 1px 3px 1px rgba(60, 64, 67, 0.15);\n",
              "      fill: #174EA6;\n",
              "    }\n",
              "\n",
              "    .colab-df-buttons div {\n",
              "      margin-bottom: 4px;\n",
              "    }\n",
              "\n",
              "    [theme=dark] .colab-df-convert {\n",
              "      background-color: #3B4455;\n",
              "      fill: #D2E3FC;\n",
              "    }\n",
              "\n",
              "    [theme=dark] .colab-df-convert:hover {\n",
              "      background-color: #434B5C;\n",
              "      box-shadow: 0px 1px 3px 1px rgba(0, 0, 0, 0.15);\n",
              "      filter: drop-shadow(0px 1px 2px rgba(0, 0, 0, 0.3));\n",
              "      fill: #FFFFFF;\n",
              "    }\n",
              "  </style>\n",
              "\n",
              "    <script>\n",
              "      const buttonEl =\n",
              "        document.querySelector('#df-9804035c-bdc0-4346-a274-a15899e5e6ad button.colab-df-convert');\n",
              "      buttonEl.style.display =\n",
              "        google.colab.kernel.accessAllowed ? 'block' : 'none';\n",
              "\n",
              "      async function convertToInteractive(key) {\n",
              "        const element = document.querySelector('#df-9804035c-bdc0-4346-a274-a15899e5e6ad');\n",
              "        const dataTable =\n",
              "          await google.colab.kernel.invokeFunction('convertToInteractive',\n",
              "                                                    [key], {});\n",
              "        if (!dataTable) return;\n",
              "\n",
              "        const docLinkHtml = 'Like what you see? Visit the ' +\n",
              "          '<a target=\"_blank\" href=https://colab.research.google.com/notebooks/data_table.ipynb>data table notebook</a>'\n",
              "          + ' to learn more about interactive tables.';\n",
              "        element.innerHTML = '';\n",
              "        dataTable['output_type'] = 'display_data';\n",
              "        await google.colab.output.renderOutput(dataTable, element);\n",
              "        const docLink = document.createElement('div');\n",
              "        docLink.innerHTML = docLinkHtml;\n",
              "        element.appendChild(docLink);\n",
              "      }\n",
              "    </script>\n",
              "  </div>\n",
              "\n",
              "\n",
              "<div id=\"df-8aac23dc-695e-4717-804c-229db2f5afe7\">\n",
              "  <button class=\"colab-df-quickchart\" onclick=\"quickchart('df-8aac23dc-695e-4717-804c-229db2f5afe7')\"\n",
              "            title=\"Suggest charts\"\n",
              "            style=\"display:none;\">\n",
              "\n",
              "<svg xmlns=\"http://www.w3.org/2000/svg\" height=\"24px\"viewBox=\"0 0 24 24\"\n",
              "     width=\"24px\">\n",
              "    <g>\n",
              "        <path d=\"M19 3H5c-1.1 0-2 .9-2 2v14c0 1.1.9 2 2 2h14c1.1 0 2-.9 2-2V5c0-1.1-.9-2-2-2zM9 17H7v-7h2v7zm4 0h-2V7h2v10zm4 0h-2v-4h2v4z\"/>\n",
              "    </g>\n",
              "</svg>\n",
              "  </button>\n",
              "\n",
              "<style>\n",
              "  .colab-df-quickchart {\n",
              "      --bg-color: #E8F0FE;\n",
              "      --fill-color: #1967D2;\n",
              "      --hover-bg-color: #E2EBFA;\n",
              "      --hover-fill-color: #174EA6;\n",
              "      --disabled-fill-color: #AAA;\n",
              "      --disabled-bg-color: #DDD;\n",
              "  }\n",
              "\n",
              "  [theme=dark] .colab-df-quickchart {\n",
              "      --bg-color: #3B4455;\n",
              "      --fill-color: #D2E3FC;\n",
              "      --hover-bg-color: #434B5C;\n",
              "      --hover-fill-color: #FFFFFF;\n",
              "      --disabled-bg-color: #3B4455;\n",
              "      --disabled-fill-color: #666;\n",
              "  }\n",
              "\n",
              "  .colab-df-quickchart {\n",
              "    background-color: var(--bg-color);\n",
              "    border: none;\n",
              "    border-radius: 50%;\n",
              "    cursor: pointer;\n",
              "    display: none;\n",
              "    fill: var(--fill-color);\n",
              "    height: 32px;\n",
              "    padding: 0;\n",
              "    width: 32px;\n",
              "  }\n",
              "\n",
              "  .colab-df-quickchart:hover {\n",
              "    background-color: var(--hover-bg-color);\n",
              "    box-shadow: 0 1px 2px rgba(60, 64, 67, 0.3), 0 1px 3px 1px rgba(60, 64, 67, 0.15);\n",
              "    fill: var(--button-hover-fill-color);\n",
              "  }\n",
              "\n",
              "  .colab-df-quickchart-complete:disabled,\n",
              "  .colab-df-quickchart-complete:disabled:hover {\n",
              "    background-color: var(--disabled-bg-color);\n",
              "    fill: var(--disabled-fill-color);\n",
              "    box-shadow: none;\n",
              "  }\n",
              "\n",
              "  .colab-df-spinner {\n",
              "    border: 2px solid var(--fill-color);\n",
              "    border-color: transparent;\n",
              "    border-bottom-color: var(--fill-color);\n",
              "    animation:\n",
              "      spin 1s steps(1) infinite;\n",
              "  }\n",
              "\n",
              "  @keyframes spin {\n",
              "    0% {\n",
              "      border-color: transparent;\n",
              "      border-bottom-color: var(--fill-color);\n",
              "      border-left-color: var(--fill-color);\n",
              "    }\n",
              "    20% {\n",
              "      border-color: transparent;\n",
              "      border-left-color: var(--fill-color);\n",
              "      border-top-color: var(--fill-color);\n",
              "    }\n",
              "    30% {\n",
              "      border-color: transparent;\n",
              "      border-left-color: var(--fill-color);\n",
              "      border-top-color: var(--fill-color);\n",
              "      border-right-color: var(--fill-color);\n",
              "    }\n",
              "    40% {\n",
              "      border-color: transparent;\n",
              "      border-right-color: var(--fill-color);\n",
              "      border-top-color: var(--fill-color);\n",
              "    }\n",
              "    60% {\n",
              "      border-color: transparent;\n",
              "      border-right-color: var(--fill-color);\n",
              "    }\n",
              "    80% {\n",
              "      border-color: transparent;\n",
              "      border-right-color: var(--fill-color);\n",
              "      border-bottom-color: var(--fill-color);\n",
              "    }\n",
              "    90% {\n",
              "      border-color: transparent;\n",
              "      border-bottom-color: var(--fill-color);\n",
              "    }\n",
              "  }\n",
              "</style>\n",
              "\n",
              "  <script>\n",
              "    async function quickchart(key) {\n",
              "      const quickchartButtonEl =\n",
              "        document.querySelector('#' + key + ' button');\n",
              "      quickchartButtonEl.disabled = true;  // To prevent multiple clicks.\n",
              "      quickchartButtonEl.classList.add('colab-df-spinner');\n",
              "      try {\n",
              "        const charts = await google.colab.kernel.invokeFunction(\n",
              "            'suggestCharts', [key], {});\n",
              "      } catch (error) {\n",
              "        console.error('Error during call to suggestCharts:', error);\n",
              "      }\n",
              "      quickchartButtonEl.classList.remove('colab-df-spinner');\n",
              "      quickchartButtonEl.classList.add('colab-df-quickchart-complete');\n",
              "    }\n",
              "    (() => {\n",
              "      let quickchartButtonEl =\n",
              "        document.querySelector('#df-8aac23dc-695e-4717-804c-229db2f5afe7 button');\n",
              "      quickchartButtonEl.style.display =\n",
              "        google.colab.kernel.accessAllowed ? 'block' : 'none';\n",
              "    })();\n",
              "  </script>\n",
              "</div>\n",
              "\n",
              "    </div>\n",
              "  </div>\n"
            ]
          },
          "metadata": {},
          "execution_count": 143
        }
      ],
      "source": [
        "df_train.head()"
      ],
      "id": "5CX7W3E9uxfY"
    },
    {
      "cell_type": "code",
      "execution_count": 144,
      "metadata": {
        "colab": {
          "base_uri": "https://localhost:8080/"
        },
        "id": "RxCLrXY6uxfZ",
        "outputId": "94e02f20-4f78-459e-a4bb-0b4c64bb72df"
      },
      "outputs": [
        {
          "output_type": "execute_result",
          "data": {
            "text/plain": [
              "(7150, 2382, 2382)"
            ]
          },
          "metadata": {},
          "execution_count": 144
        }
      ],
      "source": [
        "len(df_train), len(df_val), len(df_test)"
      ],
      "id": "RxCLrXY6uxfZ"
    },
    {
      "cell_type": "code",
      "execution_count": 145,
      "metadata": {
        "id": "ns6jROFEuxfZ"
      },
      "outputs": [],
      "source": [
        "df_train = df_train.reset_index(drop=True)\n",
        "df_val = df_val.reset_index(drop=True)\n",
        "df_test = df_test.reset_index(drop=True)"
      ],
      "id": "ns6jROFEuxfZ"
    },
    {
      "cell_type": "code",
      "execution_count": 146,
      "metadata": {
        "id": "sIcEY9jeuxfZ"
      },
      "outputs": [],
      "source": [
        "y_train = np.log1p(df_train.msrp.values)\n",
        "y_val = np.log1p(df_val.msrp.values)\n",
        "y_test = np.log1p(df_test.msrp.values)"
      ],
      "id": "sIcEY9jeuxfZ"
    },
    {
      "cell_type": "code",
      "execution_count": 147,
      "metadata": {
        "id": "NNdPieKkuxfa"
      },
      "outputs": [],
      "source": [
        "del df_train['msrp']\n",
        "del df_val['msrp']\n",
        "del df_test['msrp']"
      ],
      "id": "NNdPieKkuxfa"
    },
    {
      "cell_type": "code",
      "execution_count": 148,
      "metadata": {
        "colab": {
          "base_uri": "https://localhost:8080/"
        },
        "id": "AudQMhLYuxfj",
        "outputId": "0ee12e53-f879-4da4-add2-bd470c52fd44"
      },
      "outputs": [
        {
          "output_type": "execute_result",
          "data": {
            "text/plain": [
              "7150"
            ]
          },
          "metadata": {},
          "execution_count": 148
        }
      ],
      "source": [
        "len(y_train)"
      ],
      "id": "AudQMhLYuxfj"
    },
    {
      "cell_type": "markdown",
      "metadata": {
        "id": "W4NJ9fzXuxfj"
      },
      "source": [
        "## 2.5 Linear regression"
      ],
      "id": "W4NJ9fzXuxfj"
    },
    {
      "cell_type": "markdown",
      "metadata": {
        "id": "srh8WXMPuxfj"
      },
      "source": [
        "draw"
      ],
      "id": "srh8WXMPuxfj"
    },
    {
      "cell_type": "code",
      "execution_count": 149,
      "metadata": {
        "colab": {
          "base_uri": "https://localhost:8080/"
        },
        "id": "JDzJ2_Anuxfk",
        "outputId": "b739be7c-ae5a-4022-bc0e-bac10a376d6f"
      },
      "outputs": [
        {
          "output_type": "execute_result",
          "data": {
            "text/plain": [
              "make                                 rolls-royce\n",
              "model                     phantom_drophead_coupe\n",
              "year                                        2015\n",
              "engine_fuel_type     premium_unleaded_(required)\n",
              "engine_hp                                  453.0\n",
              "engine_cylinders                            12.0\n",
              "transmission_type                      automatic\n",
              "driven_wheels                   rear_wheel_drive\n",
              "number_of_doors                              2.0\n",
              "market_category        exotic,luxury,performance\n",
              "vehicle_size                               large\n",
              "vehicle_style                        convertible\n",
              "highway_mpg                                   19\n",
              "city_mpg                                      11\n",
              "popularity                                    86\n",
              "Name: 10, dtype: object"
            ]
          },
          "metadata": {},
          "execution_count": 149
        }
      ],
      "source": [
        "df_train.iloc[10]"
      ],
      "id": "JDzJ2_Anuxfk"
    },
    {
      "cell_type": "code",
      "execution_count": 149,
      "metadata": {
        "id": "T49SyiFyuxfk"
      },
      "outputs": [],
      "source": [],
      "id": "T49SyiFyuxfk"
    },
    {
      "cell_type": "code",
      "execution_count": 150,
      "metadata": {
        "id": "qKcXcm5_uxfk"
      },
      "outputs": [],
      "source": [
        "xi = [453, 11, 86]\n",
        "w0 = 0\n",
        "w = [1,1,1]"
      ],
      "id": "qKcXcm5_uxfk"
    },
    {
      "cell_type": "code",
      "execution_count": 151,
      "metadata": {
        "id": "Np9VjCqjuxfl"
      },
      "outputs": [],
      "source": [
        "def linear_regression(xi):\n",
        "    n = len(xi)\n",
        "\n",
        "    pred = w0\n",
        "\n",
        "    for j in range(n):\n",
        "        pred = pred + w[j] * xi[j]\n",
        "\n",
        "    return pred"
      ],
      "id": "Np9VjCqjuxfl"
    },
    {
      "cell_type": "code",
      "source": [
        "linear_regression(xi)"
      ],
      "metadata": {
        "colab": {
          "base_uri": "https://localhost:8080/"
        },
        "id": "veg_6pA6xHfp",
        "outputId": "4caeede7-fe72-492d-f3ab-40c80678c399"
      },
      "id": "veg_6pA6xHfp",
      "execution_count": 152,
      "outputs": [
        {
          "output_type": "execute_result",
          "data": {
            "text/plain": [
              "550"
            ]
          },
          "metadata": {},
          "execution_count": 152
        }
      ]
    },
    {
      "cell_type": "code",
      "execution_count": 153,
      "metadata": {
        "id": "VCPG6iAouxfl"
      },
      "outputs": [],
      "source": [
        "xi = [453, 11, 86]\n",
        "w0 = 7.17\n",
        "w = [0.01, 0.04, 0.002]"
      ],
      "id": "VCPG6iAouxfl"
    },
    {
      "cell_type": "code",
      "execution_count": 154,
      "metadata": {
        "colab": {
          "base_uri": "https://localhost:8080/"
        },
        "id": "IATc-3DTuxfl",
        "outputId": "39b23408-8b69-40fc-a5d5-ec19095da235"
      },
      "outputs": [
        {
          "output_type": "execute_result",
          "data": {
            "text/plain": [
              "12.312"
            ]
          },
          "metadata": {},
          "execution_count": 154
        }
      ],
      "source": [
        "linear_regression(xi)"
      ],
      "id": "IATc-3DTuxfl"
    },
    {
      "cell_type": "code",
      "source": [
        "? np.expm1"
      ],
      "metadata": {
        "id": "reHSLndEyBu4"
      },
      "id": "reHSLndEyBu4",
      "execution_count": 155,
      "outputs": []
    },
    {
      "cell_type": "code",
      "execution_count": 156,
      "metadata": {
        "colab": {
          "base_uri": "https://localhost:8080/"
        },
        "id": "T7B6Bd_Guxfm",
        "outputId": "09a1ac49-8c70-4a25-ccc8-3402100660d2"
      },
      "outputs": [
        {
          "output_type": "execute_result",
          "data": {
            "text/plain": [
              "222347.2221101062"
            ]
          },
          "metadata": {},
          "execution_count": 156
        }
      ],
      "source": [
        "np.expm1(12.312)"
      ],
      "id": "T7B6Bd_Guxfm"
    },
    {
      "cell_type": "code",
      "execution_count": 157,
      "metadata": {
        "scrolled": true,
        "colab": {
          "base_uri": "https://localhost:8080/"
        },
        "id": "C5uj_Rccuxfm",
        "outputId": "8a06c763-f198-48f5-d653-c0d139703fe4"
      },
      "outputs": [
        {
          "output_type": "execute_result",
          "data": {
            "text/plain": [
              "12.312"
            ]
          },
          "metadata": {},
          "execution_count": 157
        }
      ],
      "source": [
        "np.log1p(222347.2221101062)"
      ],
      "id": "C5uj_Rccuxfm"
    },
    {
      "cell_type": "markdown",
      "metadata": {
        "id": "JuXK-7N7uxfn"
      },
      "source": [
        "## 2.6 Linear regression vector form"
      ],
      "id": "JuXK-7N7uxfn"
    },
    {
      "cell_type": "code",
      "execution_count": 158,
      "metadata": {
        "id": "bSuzmDV9uxfn"
      },
      "outputs": [],
      "source": [
        "def dot(xi, w):\n",
        "    n = len(xi)\n",
        "\n",
        "    res = 0.0\n",
        "\n",
        "    for j in range(n):\n",
        "        res = res + xi[j] * w[j]\n",
        "\n",
        "    return res"
      ],
      "id": "bSuzmDV9uxfn"
    },
    {
      "cell_type": "code",
      "execution_count": 159,
      "metadata": {
        "id": "QCRRCJdkuxfo"
      },
      "outputs": [],
      "source": [
        "def linear_regression(xi):\n",
        "    return w0 + dot(xi, w)"
      ],
      "id": "QCRRCJdkuxfo"
    },
    {
      "cell_type": "code",
      "execution_count": 160,
      "metadata": {
        "id": "vPlYbctAuxfo"
      },
      "outputs": [],
      "source": [
        "w_new = [w0] + w"
      ],
      "id": "vPlYbctAuxfo"
    },
    {
      "cell_type": "code",
      "execution_count": 161,
      "metadata": {
        "colab": {
          "base_uri": "https://localhost:8080/"
        },
        "id": "yUYdMMnuuxfo",
        "outputId": "d05dcd79-a90e-41a7-9204-479f2bfaca35"
      },
      "outputs": [
        {
          "output_type": "execute_result",
          "data": {
            "text/plain": [
              "[7.17, 0.01, 0.04, 0.002]"
            ]
          },
          "metadata": {},
          "execution_count": 161
        }
      ],
      "source": [
        "w_new"
      ],
      "id": "yUYdMMnuuxfo"
    },
    {
      "cell_type": "code",
      "execution_count": 162,
      "metadata": {
        "id": "6WoUK4XJuxfp"
      },
      "outputs": [],
      "source": [
        "def linear_regression(xi):\n",
        "    xi = [1] + xi\n",
        "    return dot(xi, w_new)"
      ],
      "id": "6WoUK4XJuxfp"
    },
    {
      "cell_type": "code",
      "execution_count": 163,
      "metadata": {
        "colab": {
          "base_uri": "https://localhost:8080/"
        },
        "id": "wX77yRLTuxfp",
        "outputId": "01701ebf-329e-49ae-c49f-81421716b9d7"
      },
      "outputs": [
        {
          "output_type": "execute_result",
          "data": {
            "text/plain": [
              "12.312"
            ]
          },
          "metadata": {},
          "execution_count": 163
        }
      ],
      "source": [
        "linear_regression(xi)"
      ],
      "id": "wX77yRLTuxfp"
    },
    {
      "cell_type": "code",
      "execution_count": 164,
      "metadata": {
        "id": "M03b3T4yuxfq"
      },
      "outputs": [],
      "source": [
        "w0 = 7.17\n",
        "w = [0.01, 0.04, 0.002]\n",
        "w_new = [w0] + w"
      ],
      "id": "M03b3T4yuxfq"
    },
    {
      "cell_type": "code",
      "execution_count": 165,
      "metadata": {
        "colab": {
          "base_uri": "https://localhost:8080/"
        },
        "id": "N5bTEgvguxfq",
        "outputId": "414e68ae-a70f-4b94-f1d3-80db3e242f19"
      },
      "outputs": [
        {
          "output_type": "execute_result",
          "data": {
            "text/plain": [
              "array([[   1,  148,   24, 1385],\n",
              "       [   1,  132,   25, 2031],\n",
              "       [   1,  453,   11,   86]])"
            ]
          },
          "metadata": {},
          "execution_count": 165
        }
      ],
      "source": [
        "x1  = [1, 148, 24, 1385]\n",
        "x2  = [1, 132, 25, 2031]\n",
        "x10 = [1, 453, 11, 86]\n",
        "\n",
        "X = [x1, x2, x10]\n",
        "X = np.array(X)\n",
        "X"
      ],
      "id": "N5bTEgvguxfq"
    },
    {
      "cell_type": "code",
      "execution_count": 166,
      "metadata": {
        "id": "d-pBwff4uxfr"
      },
      "outputs": [],
      "source": [
        "def linear_regression(X):\n",
        "    return X.dot(w_new)"
      ],
      "id": "d-pBwff4uxfr"
    },
    {
      "cell_type": "code",
      "execution_count": 167,
      "metadata": {
        "colab": {
          "base_uri": "https://localhost:8080/"
        },
        "id": "ZLy2E0Zzuxfr",
        "outputId": "17920faa-578f-4778-a9f3-d55b8464809a"
      },
      "outputs": [
        {
          "output_type": "execute_result",
          "data": {
            "text/plain": [
              "array([12.38 , 13.552, 12.312])"
            ]
          },
          "metadata": {},
          "execution_count": 167
        }
      ],
      "source": [
        "linear_regression(X)"
      ],
      "id": "ZLy2E0Zzuxfr"
    },
    {
      "cell_type": "markdown",
      "metadata": {
        "id": "WOlk3mAMuxfr"
      },
      "source": [
        "## 2.7 Training a linear regression model"
      ],
      "id": "WOlk3mAMuxfr"
    },
    {
      "cell_type": "code",
      "execution_count": 168,
      "metadata": {
        "id": "io_KEJhZuxfs"
      },
      "outputs": [],
      "source": [
        "def train_linear_regression(X, y):\n",
        "    pass"
      ],
      "id": "io_KEJhZuxfs"
    },
    {
      "cell_type": "code",
      "execution_count": 169,
      "metadata": {
        "colab": {
          "base_uri": "https://localhost:8080/"
        },
        "id": "oX39fvbluxfs",
        "outputId": "d6ab94ce-94f4-496d-d8a3-a2a89c6520a4"
      },
      "outputs": [
        {
          "output_type": "execute_result",
          "data": {
            "text/plain": [
              "array([[ 148,   24, 1385],\n",
              "       [ 132,   25, 2031],\n",
              "       [ 453,   11,   86],\n",
              "       [ 158,   24,  185],\n",
              "       [ 172,   25,  201],\n",
              "       [ 413,   11,   86],\n",
              "       [  38,   54,  185],\n",
              "       [ 142,   25,  431],\n",
              "       [ 453,   31,   86]])"
            ]
          },
          "metadata": {},
          "execution_count": 169
        }
      ],
      "source": [
        "X = [\n",
        "    [148, 24, 1385],\n",
        "    [132, 25, 2031],\n",
        "    [453, 11, 86],\n",
        "    [158, 24, 185],\n",
        "    [172, 25, 201],\n",
        "    [413, 11, 86],\n",
        "    [38,  54, 185],\n",
        "    [142, 25, 431],\n",
        "    [453, 31, 86],\n",
        "]\n",
        "\n",
        "X = np.array(X)\n",
        "X"
      ],
      "id": "oX39fvbluxfs"
    },
    {
      "cell_type": "code",
      "execution_count": 170,
      "metadata": {
        "colab": {
          "base_uri": "https://localhost:8080/"
        },
        "id": "mxYig40juxfs",
        "outputId": "85a377df-68e8-4e27-ea11-35854718a649"
      },
      "outputs": [
        {
          "output_type": "execute_result",
          "data": {
            "text/plain": [
              "array([1., 1., 1., 1., 1., 1., 1., 1., 1.])"
            ]
          },
          "metadata": {},
          "execution_count": 170
        }
      ],
      "source": [
        "ones = np.ones(X.shape[0]) #For bias coefficient\n",
        "ones"
      ],
      "id": "mxYig40juxfs"
    },
    {
      "cell_type": "code",
      "execution_count": 171,
      "metadata": {
        "colab": {
          "base_uri": "https://localhost:8080/"
        },
        "id": "rlHODKlquxft",
        "outputId": "b1f5def8-0aaf-42b6-e9d2-36087a69382f"
      },
      "outputs": [
        {
          "output_type": "execute_result",
          "data": {
            "text/plain": [
              "array([[1.000e+00, 1.480e+02, 2.400e+01, 1.385e+03],\n",
              "       [1.000e+00, 1.320e+02, 2.500e+01, 2.031e+03],\n",
              "       [1.000e+00, 4.530e+02, 1.100e+01, 8.600e+01],\n",
              "       [1.000e+00, 1.580e+02, 2.400e+01, 1.850e+02],\n",
              "       [1.000e+00, 1.720e+02, 2.500e+01, 2.010e+02],\n",
              "       [1.000e+00, 4.130e+02, 1.100e+01, 8.600e+01],\n",
              "       [1.000e+00, 3.800e+01, 5.400e+01, 1.850e+02],\n",
              "       [1.000e+00, 1.420e+02, 2.500e+01, 4.310e+02],\n",
              "       [1.000e+00, 4.530e+02, 3.100e+01, 8.600e+01]])"
            ]
          },
          "metadata": {},
          "execution_count": 171
        }
      ],
      "source": [
        "X_one = np.column_stack([ones, X])\n",
        "X_one #add each record for constant bias coef."
      ],
      "id": "rlHODKlquxft"
    },
    {
      "cell_type": "code",
      "source": [
        "X_one.shape"
      ],
      "metadata": {
        "id": "mkX4EVvPAPQO",
        "outputId": "5d057b35-e0c3-4549-92ea-efd0b75c063b",
        "colab": {
          "base_uri": "https://localhost:8080/"
        }
      },
      "id": "mkX4EVvPAPQO",
      "execution_count": 172,
      "outputs": [
        {
          "output_type": "execute_result",
          "data": {
            "text/plain": [
              "(9, 4)"
            ]
          },
          "metadata": {},
          "execution_count": 172
        }
      ]
    },
    {
      "cell_type": "code",
      "execution_count": 173,
      "metadata": {
        "id": "_DNWREZ_uxft"
      },
      "outputs": [],
      "source": [
        "y = [10000, 20000, 15000, 20050, 10000, 20000, 15000, 25000, 12000]"
      ],
      "id": "_DNWREZ_uxft"
    },
    {
      "cell_type": "code",
      "source": [
        "X_one.T.shape"
      ],
      "metadata": {
        "id": "1wjy6TlE6uTV",
        "outputId": "a4bc7f45-b1da-43f6-ef6f-bc6c07428106",
        "colab": {
          "base_uri": "https://localhost:8080/"
        }
      },
      "id": "1wjy6TlE6uTV",
      "execution_count": 174,
      "outputs": [
        {
          "output_type": "execute_result",
          "data": {
            "text/plain": [
              "(4, 9)"
            ]
          },
          "metadata": {},
          "execution_count": 174
        }
      ]
    },
    {
      "cell_type": "code",
      "execution_count": 175,
      "metadata": {
        "id": "5wELtYdluxfu",
        "outputId": "9a74a847-cac2-4dcb-a3f8-a89424e539b8",
        "colab": {
          "base_uri": "https://localhost:8080/"
        }
      },
      "outputs": [
        {
          "output_type": "execute_result",
          "data": {
            "text/plain": [
              "array([[9.000000e+00, 2.109000e+03, 2.300000e+02, 4.676000e+03],\n",
              "       [2.109000e+03, 6.964710e+05, 4.411500e+04, 7.185400e+05],\n",
              "       [2.300000e+02, 4.411500e+04, 7.146000e+03, 1.188030e+05],\n",
              "       [4.676000e+03, 7.185400e+05, 1.188030e+05, 6.359986e+06]])"
            ]
          },
          "metadata": {},
          "execution_count": 175
        }
      ],
      "source": [
        "XTX = X_one.T.dot(X_one)\n",
        "XTX #gram matrix"
      ],
      "id": "5wELtYdluxfu"
    },
    {
      "cell_type": "code",
      "execution_count": 176,
      "metadata": {
        "id": "lfW8Bbwjuxfu",
        "outputId": "6e952003-6636-4765-86a0-7794b0ee4bd2",
        "colab": {
          "base_uri": "https://localhost:8080/"
        }
      },
      "outputs": [
        {
          "output_type": "execute_result",
          "data": {
            "text/plain": [
              "(4, 4)"
            ]
          },
          "metadata": {},
          "execution_count": 176
        }
      ],
      "source": [
        "XTX.shape"
      ],
      "id": "lfW8Bbwjuxfu"
    },
    {
      "cell_type": "code",
      "execution_count": 177,
      "metadata": {
        "id": "FktAH_3Auxfu",
        "outputId": "7949e596-b7c1-415e-a76d-0ade297acb12",
        "colab": {
          "base_uri": "https://localhost:8080/"
        }
      },
      "outputs": [
        {
          "output_type": "execute_result",
          "data": {
            "text/plain": [
              "array([[ 3.30686958e+00, -5.39612291e-03, -6.21325581e-02,\n",
              "        -6.61016816e-04],\n",
              "       [-5.39612291e-03,  1.11633857e-05,  8.66973393e-05,\n",
              "         1.08664195e-06],\n",
              "       [-6.21325581e-02,  8.66973393e-05,  1.46189255e-03,\n",
              "         8.57849603e-06],\n",
              "       [-6.61016816e-04,  1.08664195e-06,  8.57849603e-06,\n",
              "         3.60215866e-07]])"
            ]
          },
          "metadata": {},
          "execution_count": 177
        }
      ],
      "source": [
        "XTX_inv = np.linalg.inv(XTX)\n",
        "XTX_inv"
      ],
      "id": "FktAH_3Auxfu"
    },
    {
      "cell_type": "code",
      "source": [
        "XTX_inv.shape"
      ],
      "metadata": {
        "id": "5GbUMBNz9EKv",
        "outputId": "dce5fbf1-1af8-4eaf-ea2b-e8be3bbe6e30",
        "colab": {
          "base_uri": "https://localhost:8080/"
        }
      },
      "id": "5GbUMBNz9EKv",
      "execution_count": 178,
      "outputs": [
        {
          "output_type": "execute_result",
          "data": {
            "text/plain": [
              "(4, 4)"
            ]
          },
          "metadata": {},
          "execution_count": 178
        }
      ]
    },
    {
      "cell_type": "code",
      "source": [
        "#https://github.com/alexeygrigorev/mlbookcamp-code/blob/master/course-zoomcamp/02-regression/07-linear-regression-training.md\n",
        "w_full = XTX_inv.dot(X_one.T).dot(y)\n",
        "w_full"
      ],
      "metadata": {
        "id": "tgETQX6W7enP",
        "outputId": "551052bb-f457-4bd7-f47a-c6da3cc91d44",
        "colab": {
          "base_uri": "https://localhost:8080/"
        }
      },
      "id": "tgETQX6W7enP",
      "execution_count": 179,
      "outputs": [
        {
          "output_type": "execute_result",
          "data": {
            "text/plain": [
              "array([ 2.58447541e+04, -1.60890647e+01, -1.99472549e+02, -1.22802883e+00])"
            ]
          },
          "metadata": {},
          "execution_count": 179
        }
      ]
    },
    {
      "cell_type": "code",
      "execution_count": 180,
      "metadata": {
        "id": "lsNhOMjFuxfu"
      },
      "outputs": [],
      "source": [
        "w0 = w_full[0]\n",
        "w = w_full[1:]"
      ],
      "id": "lsNhOMjFuxfu"
    },
    {
      "cell_type": "code",
      "execution_count": 181,
      "metadata": {
        "colab": {
          "base_uri": "https://localhost:8080/"
        },
        "id": "dJYA4_1quxfv",
        "outputId": "960db8db-ff9b-4404-d6ec-c21483d6dc29"
      },
      "outputs": [
        {
          "output_type": "execute_result",
          "data": {
            "text/plain": [
              "(25844.754055766753, array([ -16.08906468, -199.47254894,   -1.22802883]))"
            ]
          },
          "metadata": {},
          "execution_count": 181
        }
      ],
      "source": [
        "w0, w"
      ],
      "id": "dJYA4_1quxfv"
    },
    {
      "cell_type": "code",
      "execution_count": 182,
      "metadata": {
        "id": "ne4OsPL3uxfv"
      },
      "outputs": [],
      "source": [
        "def train_linear_regression(X, y):\n",
        "    ones = np.ones(X.shape[0]) # Coefficient for bias\n",
        "    X = np.column_stack([ones, X]) #adding horizontal bias coefficient vector\n",
        "\n",
        "    XTX = X.T.dot(X) # In order to get the inverse, we will get a square matrix, and this matrix is called a gram matrix\n",
        "    XTX_inv = np.linalg.inv(XTX) #We got the inverse of the gram matrix\n",
        "\n",
        "    w_full = XTX_inv.dot(X.T).dot(y)\n",
        "\n",
        "    return w_full[0], w_full[1:]"
      ],
      "id": "ne4OsPL3uxfv"
    },
    {
      "cell_type": "code",
      "execution_count": 183,
      "metadata": {
        "colab": {
          "base_uri": "https://localhost:8080/"
        },
        "id": "-GrF5RT-uxfv",
        "outputId": "949f3bfc-1621-4a8c-a27e-8bf687e49592"
      },
      "outputs": [
        {
          "output_type": "execute_result",
          "data": {
            "text/plain": [
              "(25844.754055766753, array([ -16.08906468, -199.47254894,   -1.22802883]))"
            ]
          },
          "metadata": {},
          "execution_count": 183
        }
      ],
      "source": [
        "train_linear_regression(X, y)"
      ],
      "id": "-GrF5RT-uxfv"
    },
    {
      "cell_type": "markdown",
      "metadata": {
        "id": "nyNHHVD3uxfw"
      },
      "source": [
        "## 2.8 Car price baseline model"
      ],
      "id": "nyNHHVD3uxfw"
    },
    {
      "cell_type": "code",
      "execution_count": 184,
      "metadata": {
        "id": "JdxuOZmjuxfw",
        "outputId": "011f43a9-706f-4126-8862-b2f0230dfcb9",
        "colab": {
          "base_uri": "https://localhost:8080/"
        }
      },
      "outputs": [
        {
          "output_type": "execute_result",
          "data": {
            "text/plain": [
              "Index(['make', 'model', 'year', 'engine_fuel_type', 'engine_hp',\n",
              "       'engine_cylinders', 'transmission_type', 'driven_wheels',\n",
              "       'number_of_doors', 'market_category', 'vehicle_size', 'vehicle_style',\n",
              "       'highway_mpg', 'city_mpg', 'popularity'],\n",
              "      dtype='object')"
            ]
          },
          "metadata": {},
          "execution_count": 184
        }
      ],
      "source": [
        "df_train.columns"
      ],
      "id": "JdxuOZmjuxfw"
    },
    {
      "cell_type": "code",
      "execution_count": 185,
      "metadata": {
        "scrolled": true,
        "id": "esr2xW6zuxfx"
      },
      "outputs": [],
      "source": [
        "base = ['engine_hp', 'engine_cylinders', 'highway_mpg',\n",
        "        'city_mpg', 'popularity']\n",
        "\n",
        "X_train = df_train[base].fillna(0).values\n",
        "\n",
        "w0, w = train_linear_regression(X_train, y_train)\n",
        "\n",
        "y_pred = w0 + X_train.dot(w)"
      ],
      "id": "esr2xW6zuxfx"
    },
    {
      "cell_type": "code",
      "execution_count": 186,
      "metadata": {
        "id": "YLKRU7vjuxfx",
        "outputId": "e814badd-a1bb-4b82-c337-11e4b14b44f9",
        "colab": {
          "base_uri": "https://localhost:8080/"
        }
      },
      "outputs": [
        {
          "output_type": "execute_result",
          "data": {
            "text/plain": [
              "7.927257388069986"
            ]
          },
          "metadata": {},
          "execution_count": 186
        }
      ],
      "source": [
        "w0"
      ],
      "id": "YLKRU7vjuxfx"
    },
    {
      "cell_type": "code",
      "execution_count": 187,
      "metadata": {
        "id": "2dsCcW-Kuxfy",
        "outputId": "510d77c1-f2f8-4f90-a1cd-7490c718105b",
        "colab": {
          "base_uri": "https://localhost:8080/"
        }
      },
      "outputs": [
        {
          "output_type": "execute_result",
          "data": {
            "text/plain": [
              "array([ 9.70589522e-03, -1.59103494e-01,  1.43792133e-02,  1.49441072e-02,\n",
              "       -9.06908672e-06])"
            ]
          },
          "metadata": {},
          "execution_count": 187
        }
      ],
      "source": [
        "w"
      ],
      "id": "2dsCcW-Kuxfy"
    },
    {
      "cell_type": "code",
      "execution_count": 188,
      "metadata": {
        "id": "JwdxS7sJuxfy",
        "outputId": "61caf235-0364-4454-c996-e2cfcb96fb9b",
        "colab": {
          "base_uri": "https://localhost:8080/"
        }
      },
      "outputs": [
        {
          "output_type": "execute_result",
          "data": {
            "text/plain": [
              "(array([ 9.54792783,  9.38733977,  9.67197758, ..., 10.30423015,\n",
              "        11.9778914 ,  9.99863111]),\n",
              " (7150,))"
            ]
          },
          "metadata": {},
          "execution_count": 188
        }
      ],
      "source": [
        "y_pred, y_pred.shape"
      ],
      "id": "JwdxS7sJuxfy"
    },
    {
      "cell_type": "code",
      "execution_count": 189,
      "metadata": {
        "id": "CRiGNeF3uxfz",
        "outputId": "68a2c873-1d7b-4854-c9e6-364f70f9b149",
        "colab": {
          "base_uri": "https://localhost:8080/",
          "height": 272
        }
      },
      "outputs": [
        {
          "output_type": "execute_result",
          "data": {
            "text/plain": [
              "<matplotlib.legend.Legend at 0x785b9a03b5b0>"
            ]
          },
          "metadata": {},
          "execution_count": 189
        },
        {
          "output_type": "display_data",
          "data": {
            "text/plain": [
              "<Figure size 640x480 with 1 Axes>"
            ],
            "image/png": "[encoded data removed]"
          },
          "metadata": {}
        }
      ],
      "source": [
        "sns.histplot(y_pred,label='preddicted', color='red', alpha=0.5, bins=50)\n",
        "sns.histplot(y_train,label='true', color='blue', alpha=0.5, bins=50)\n",
        "plt.legend()"
      ],
      "id": "CRiGNeF3uxfz"
    },
    {
      "cell_type": "markdown",
      "metadata": {
        "id": "iswv8RGKuxf0"
      },
      "source": [
        "## 2.9 RMSE"
      ],
      "id": "iswv8RGKuxf0"
    },
    {
      "cell_type": "code",
      "execution_count": 190,
      "metadata": {
        "id": "h0GXYawhuxf0"
      },
      "outputs": [],
      "source": [
        "def rmse(y, y_pred):\n",
        "    se = (y - y_pred) ** 2\n",
        "    mse = se.mean()\n",
        "    return np.sqrt(mse)"
      ],
      "id": "h0GXYawhuxf0"
    },
    {
      "cell_type": "code",
      "execution_count": 191,
      "metadata": {
        "id": "mrLj3szauxf1",
        "outputId": "b8379117-efe1-4d9d-e5b0-d73076ce1e8d",
        "colab": {
          "base_uri": "https://localhost:8080/"
        }
      },
      "outputs": [
        {
          "output_type": "execute_result",
          "data": {
            "text/plain": [
              "0.7554192603920132"
            ]
          },
          "metadata": {},
          "execution_count": 191
        }
      ],
      "source": [
        "rmse(y_train, y_pred)"
      ],
      "id": "mrLj3szauxf1"
    },
    {
      "cell_type": "markdown",
      "metadata": {
        "id": "hXl4VHtXuxf1"
      },
      "source": [
        "## 2.10 Validating the model"
      ],
      "id": "hXl4VHtXuxf1"
    },
    {
      "cell_type": "code",
      "execution_count": 192,
      "metadata": {
        "id": "C092cZXluxf2"
      },
      "outputs": [],
      "source": [
        "def prepare1_X(df):\n",
        "\n",
        "    df_num = df[base].fillna(df[base].mean())\n",
        "    X = df_num.values\n",
        "    return X"
      ],
      "id": "C092cZXluxf2"
    },
    {
      "cell_type": "code",
      "execution_count": 193,
      "metadata": {
        "id": "JmcMv7w9uxf2",
        "outputId": "31b076df-aea0-40bd-8e11-3eb9ca6bca20",
        "colab": {
          "base_uri": "https://localhost:8080/"
        }
      },
      "outputs": [
        {
          "output_type": "execute_result",
          "data": {
            "text/plain": [
              "0.7502502346381938"
            ]
          },
          "metadata": {},
          "execution_count": 193
        }
      ],
      "source": [
        "X_train = prepare1_X(df_train)\n",
        "w0, w = train_linear_regression(X_train, y_train)\n",
        "\n",
        "X_val = prepare_X(df_val)\n",
        "y_pred = w0 + X_val.dot(w)\n",
        "rmse(y_val, y_pred)"
      ],
      "id": "JmcMv7w9uxf2"
    },
    {
      "cell_type": "code",
      "source": [
        "sns.histplot(y_pred,label='predicted', color='red', alpha=0.5, bins=50)\n",
        "sns.histplot(y_val,label='true', color='blue', alpha=0.5, bins=50)\n",
        "plt.legend()\n",
        "plt.title(f\"  valid rmse :{rmse(y_val, y_pred) } \")"
      ],
      "metadata": {
        "colab": {
          "base_uri": "https://localhost:8080/",
          "height": 283
        },
        "id": "1ame8DOxlGTI",
        "outputId": "7c49957c-7a23-4be8-bac1-1f8d1e157378"
      },
      "id": "1ame8DOxlGTI",
      "execution_count": 194,
      "outputs": [
        {
          "output_type": "execute_result",
          "data": {
            "text/plain": [
              "Text(0.5, 1.0, '  valid rmse :0.7502502346381938 ')"
            ]
          },
          "metadata": {},
          "execution_count": 194
        },
        {
          "output_type": "display_data",
          "data": {
            "text/plain": [
              "<Figure size 640x480 with 1 Axes>"
            ],
            "image/png": "[encoded data removed]"
          },
          "metadata": {}
        }
      ]
    },
    {
      "cell_type": "markdown",
      "metadata": {
        "id": "0NT28orKuxf3"
      },
      "source": [
        "## 2.11 Simple feature engineering"
      ],
      "id": "0NT28orKuxf3"
    },
    {
      "cell_type": "code",
      "execution_count": 195,
      "metadata": {
        "id": "SXgkkYDKuxf3"
      },
      "outputs": [],
      "source": [
        "def prepare2_X(df):\n",
        "    df = df.copy()\n",
        "\n",
        "    df['age'] = 2017 - df['year']\n",
        "    features = base + ['age']\n",
        "\n",
        "    df_num = df[features]\n",
        "    df_num = df[features].fillna(df[features].mean())\n",
        "    X = df_num.values\n",
        "\n",
        "    return X"
      ],
      "id": "SXgkkYDKuxf3"
    },
    {
      "cell_type": "code",
      "execution_count": 196,
      "metadata": {
        "id": "LW1oEkiNuxf3",
        "outputId": "2fa6d5f0-b80a-4a0d-d05f-9e2733216394",
        "colab": {
          "base_uri": "https://localhost:8080/"
        }
      },
      "outputs": [
        {
          "output_type": "execute_result",
          "data": {
            "text/plain": [
              "0.5070033906013028"
            ]
          },
          "metadata": {},
          "execution_count": 196
        }
      ],
      "source": [
        "X_train = prepare2_X(df_train)\n",
        "w0, w = train_linear_regression(X_train, y_train)\n",
        "\n",
        "X_val = prepare2_X(df_val)\n",
        "y_pred = w0 + X_val.dot(w)\n",
        "rmse(y_val, y_pred)"
      ],
      "id": "LW1oEkiNuxf3"
    },
    {
      "cell_type": "code",
      "execution_count": 204,
      "metadata": {
        "id": "IjSnrSoouxf4",
        "outputId": "8e62f9b5-7afd-4e68-da87-917e510d4046",
        "colab": {
          "base_uri": "https://localhost:8080/",
          "height": 283
        }
      },
      "outputs": [
        {
          "output_type": "execute_result",
          "data": {
            "text/plain": [
              "Text(0.5, 1.0, '  valid rmse :0.5070033906013028 ')"
            ]
          },
          "metadata": {},
          "execution_count": 204
        },
        {
          "output_type": "display_data",
          "data": {
            "text/plain": [
              "<Figure size 640x480 with 1 Axes>"
            ],
            "image/png": "[encoded data removed]"
          },
          "metadata": {}
        }
      ],
      "source": [
        "sns.histplot(y_pred,label='predicted', color='red', alpha=0.5, bins=50)\n",
        "sns.histplot(y_val,label='true', color='blue', alpha=0.5, bins=50)\n",
        "plt.legend()\n",
        "plt.title(f\"  valid rmse :{rmse(y_val, y_pred) } \")"
      ],
      "id": "IjSnrSoouxf4"
    },
    {
      "cell_type": "code",
      "source": [
        "df.number_of_doors.value_counts()"
      ],
      "metadata": {
        "id": "rkv_XPsD6nVC",
        "outputId": "12a8ab14-e190-47d6-c3ca-afd1cda9d745",
        "colab": {
          "base_uri": "https://localhost:8080/"
        }
      },
      "id": "rkv_XPsD6nVC",
      "execution_count": 229,
      "outputs": [
        {
          "output_type": "execute_result",
          "data": {
            "text/plain": [
              "4.0    8353\n",
              "2.0    3160\n",
              "3.0     395\n",
              "Name: number_of_doors, dtype: int64"
            ]
          },
          "metadata": {},
          "execution_count": 229
        }
      ]
    },
    {
      "cell_type": "code",
      "source": [
        "df.number_of_doors.isnull().sum(),df.number_of_doors.unique()"
      ],
      "metadata": {
        "id": "kniplTzu8HWd",
        "outputId": "017198bf-9190-4951-da90-33aa8fed317f",
        "colab": {
          "base_uri": "https://localhost:8080/"
        }
      },
      "id": "kniplTzu8HWd",
      "execution_count": 231,
      "outputs": [
        {
          "output_type": "execute_result",
          "data": {
            "text/plain": [
              "(6, array([ 2.,  4.,  3., nan]))"
            ]
          },
          "metadata": {},
          "execution_count": 231
        }
      ]
    },
    {
      "cell_type": "code",
      "source": [
        "\n",
        "df = df.copy()\n",
        "\n",
        "df['age'] = 2017 - df['year']\n",
        "features = base + ['age']\n",
        "# one hot encoding for number of door\n",
        "for v in [2, 3, 4]:\n",
        "   df['num_doors_%d' % v] = (df.number_of_doors == v).astype(int)\n",
        "   features.append('num_doors_%d' % v)"
      ],
      "metadata": {
        "id": "Rg6YUSldyn6x"
      },
      "id": "Rg6YUSldyn6x",
      "execution_count": 205,
      "outputs": []
    },
    {
      "cell_type": "code",
      "source": [],
      "metadata": {
        "id": "GPthAJRo6ZVY"
      },
      "id": "GPthAJRo6ZVY",
      "execution_count": null,
      "outputs": []
    },
    {
      "cell_type": "code",
      "source": [
        "df.columns"
      ],
      "metadata": {
        "id": "epyrxKgRy7vJ",
        "outputId": "fb33358e-605a-4ba4-8892-9949a6f34b15",
        "colab": {
          "base_uri": "https://localhost:8080/"
        }
      },
      "id": "epyrxKgRy7vJ",
      "execution_count": 213,
      "outputs": [
        {
          "output_type": "execute_result",
          "data": {
            "text/plain": [
              "Index(['make', 'model', 'year', 'engine_fuel_type', 'engine_hp',\n",
              "       'engine_cylinders', 'transmission_type', 'driven_wheels',\n",
              "       'number_of_doors', 'market_category', 'vehicle_size', 'vehicle_style',\n",
              "       'highway_mpg', 'city_mpg', 'popularity', 'msrp', 'age', 'num_doors_2',\n",
              "       'num_doors_3', 'num_doors_4'],\n",
              "      dtype='object')"
            ]
          },
          "metadata": {},
          "execution_count": 213
        }
      ]
    },
    {
      "cell_type": "code",
      "source": [
        "def prepare3_X(df):\n",
        "    df = df.copy()\n",
        "\n",
        "    df['age'] = 2017 - df['year']\n",
        "    features = base + ['age']\n",
        "\n",
        "    for v in [2, 3, 4]:\n",
        "        df['num_doors_%d' % v] = (df.number_of_doors == v).astype(int)\n",
        "        features.append('num_doors_%d' % v)\n",
        "\n",
        "    df_num = df[features]\n",
        "    df_num = df[features].fillna(df[features].mean())\n",
        "    X = df_num.values\n",
        "\n",
        "    return X"
      ],
      "metadata": {
        "id": "Yq6PkdQd0SBt"
      },
      "id": "Yq6PkdQd0SBt",
      "execution_count": 243,
      "outputs": []
    },
    {
      "cell_type": "code",
      "source": [
        "X_train = prepare3_X(df_train)\n",
        "w0, w = train_linear_regression(X_train, y_train)\n",
        "\n",
        "X_val = prepare3_X(df_val)\n",
        "y_pred = w0 + X_val.dot(w)\n",
        "rmse(y_val, y_pred)"
      ],
      "metadata": {
        "id": "hET40_mr0moT",
        "outputId": "71a2866d-15ae-492b-ae21-0ea2afa00aeb",
        "colab": {
          "base_uri": "https://localhost:8080/"
        }
      },
      "id": "hET40_mr0moT",
      "execution_count": 244,
      "outputs": [
        {
          "output_type": "execute_result",
          "data": {
            "text/plain": [
              "0.5059202395654524"
            ]
          },
          "metadata": {},
          "execution_count": 244
        }
      ]
    },
    {
      "cell_type": "code",
      "source": [
        "sns.histplot(y_pred,label='predicted', color='red', alpha=0.5, bins=50)\n",
        "sns.histplot(y_val,label='true', color='blue', alpha=0.5, bins=50)\n",
        "plt.legend()\n",
        "plt.title(f\"  valid rmse :{rmse(y_val, y_pred) } \")"
      ],
      "metadata": {
        "id": "uOy45yCk1XIZ",
        "outputId": "d0b800b4-95e9-4b4e-ab54-373eebbeaf92",
        "colab": {
          "base_uri": "https://localhost:8080/",
          "height": 283
        }
      },
      "id": "uOy45yCk1XIZ",
      "execution_count": 245,
      "outputs": [
        {
          "output_type": "execute_result",
          "data": {
            "text/plain": [
              "Text(0.5, 1.0, '  valid rmse :0.5059202395654524 ')"
            ]
          },
          "metadata": {},
          "execution_count": 245
        },
        {
          "output_type": "display_data",
          "data": {
            "text/plain": [
              "<Figure size 640x480 with 1 Axes>"
            ],
            "image/png": "[encoded data removed]"
          },
          "metadata": {}
        }
      ]
    },
    {
      "cell_type": "markdown",
      "metadata": {
        "id": "pTJ8t0nquxf5"
      },
      "source": [
        "## 2.12 Categorical variables"
      ],
      "id": "pTJ8t0nquxf5"
    },
    {
      "cell_type": "code",
      "source": [
        "df.dtypes[df.dtypes == 'object'].index"
      ],
      "metadata": {
        "id": "i_-mSvxQoLET",
        "outputId": "0e9617e9-99af-4ec8-d09d-fd832a1d7512",
        "colab": {
          "base_uri": "https://localhost:8080/"
        }
      },
      "id": "i_-mSvxQoLET",
      "execution_count": 200,
      "outputs": [
        {
          "output_type": "execute_result",
          "data": {
            "text/plain": [
              "Index(['make', 'model', 'engine_fuel_type', 'transmission_type',\n",
              "       'driven_wheels', 'market_category', 'vehicle_size', 'vehicle_style'],\n",
              "      dtype='object')"
            ]
          },
          "metadata": {},
          "execution_count": 200
        }
      ]
    },
    {
      "cell_type": "code",
      "source": [
        "df.make.value_counts().head(10)"
      ],
      "metadata": {
        "id": "5OllnTFO5KPm",
        "outputId": "ef55ae9b-6007-45c8-db4a-2e0555d27396",
        "colab": {
          "base_uri": "https://localhost:8080/"
        }
      },
      "id": "5OllnTFO5KPm",
      "execution_count": 232,
      "outputs": [
        {
          "output_type": "execute_result",
          "data": {
            "text/plain": [
              "chevrolet     1123\n",
              "ford           881\n",
              "volkswagen     809\n",
              "toyota         746\n",
              "dodge          626\n",
              "nissan         558\n",
              "gmc            515\n",
              "honda          449\n",
              "mazda          423\n",
              "cadillac       397\n",
              "Name: make, dtype: int64"
            ]
          },
          "metadata": {},
          "execution_count": 232
        }
      ]
    },
    {
      "cell_type": "code",
      "execution_count": 253,
      "metadata": {
        "id": "gxWYr83tuxf5"
      },
      "outputs": [],
      "source": [
        "categorical_columns = [\n",
        "    'make', 'model', 'engine_fuel_type', 'driven_wheels', 'market_category',\n",
        "    'vehicle_size', 'vehicle_style']\n",
        "\n",
        "categorical = {}\n",
        "\n",
        "for c in categorical_columns:\n",
        "    categorical[c] = list(df_train[c].value_counts().head(10).index)"
      ],
      "id": "gxWYr83tuxf5"
    },
    {
      "cell_type": "code",
      "source": [
        "categorical"
      ],
      "metadata": {
        "id": "5Kr1YMQ8El0S",
        "outputId": "1a493d62-8c7b-4299-ab6e-a4da6ed7e0ef",
        "colab": {
          "base_uri": "https://localhost:8080/"
        }
      },
      "id": "5Kr1YMQ8El0S",
      "execution_count": 247,
      "outputs": [
        {
          "output_type": "execute_result",
          "data": {
            "text/plain": [
              "{'make': ['chevrolet', 'ford', 'volkswagen', 'toyota', 'dodge'],\n",
              " 'model': ['silverado_1500', 'tundra', 'f-150', 'sierra_1500', 'tacoma'],\n",
              " 'engine_fuel_type': ['regular_unleaded',\n",
              "  'premium_unleaded_(required)',\n",
              "  'premium_unleaded_(recommended)',\n",
              "  'flex-fuel_(unleaded/e85)',\n",
              "  'diesel'],\n",
              " 'driven_wheels': ['front_wheel_drive',\n",
              "  'rear_wheel_drive',\n",
              "  'all_wheel_drive',\n",
              "  'four_wheel_drive'],\n",
              " 'market_category': ['crossover',\n",
              "  'flex_fuel',\n",
              "  'luxury',\n",
              "  'hatchback',\n",
              "  'luxury,performance'],\n",
              " 'vehicle_size': ['compact', 'midsize', 'large'],\n",
              " 'vehicle_style': ['sedan',\n",
              "  '4dr_suv',\n",
              "  'coupe',\n",
              "  'convertible',\n",
              "  '4dr_hatchback']}"
            ]
          },
          "metadata": {},
          "execution_count": 247
        }
      ]
    },
    {
      "cell_type": "code",
      "execution_count": 254,
      "metadata": {
        "id": "4f5msVaAuxf6"
      },
      "outputs": [],
      "source": [
        "def preparec_X(df):\n",
        "    df = df.copy()\n",
        "\n",
        "    df['age'] = 2017 - df['year']\n",
        "    features = base + ['age']\n",
        "\n",
        "    for v in [2, 3, 4]:\n",
        "        df['num_doors_%d' % v] = (df.number_of_doors == v).astype(int)\n",
        "        features.append('num_doors_%d' % v)\n",
        "\n",
        "    # one hot encoding for top 10 categories\n",
        "    for name, values in categorical.items():\n",
        "        for value in values:\n",
        "            df['%s_%s' % (name, value)] = (df[name] == value).astype(int)\n",
        "            features.append('%s_%s' % (name, value))\n",
        "\n",
        "    df_num = df[features]\n",
        "    #print(df.columns)\n",
        "    df_num = df_num.fillna(df_num.mean())\n",
        "    X = df_num.values\n",
        "\n",
        "    return X"
      ],
      "id": "4f5msVaAuxf6"
    },
    {
      "cell_type": "code",
      "source": [
        "preparec_X(df_train)"
      ],
      "metadata": {
        "id": "e3wx0gT52W6U",
        "outputId": "f4f35601-6341-4879-f7a8-047fa8b3e556",
        "colab": {
          "base_uri": "https://localhost:8080/"
        }
      },
      "id": "e3wx0gT52W6U",
      "execution_count": 237,
      "outputs": [
        {
          "output_type": "stream",
          "name": "stdout",
          "text": [
            "Index(['make', 'model', 'year', 'engine_fuel_type', 'engine_hp',\n",
            "       'engine_cylinders', 'transmission_type', 'driven_wheels',\n",
            "       'number_of_doors', 'market_category', 'vehicle_size', 'vehicle_style',\n",
            "       'highway_mpg', 'city_mpg', 'popularity', 'age', 'num_doors_2',\n",
            "       'num_doors_3', 'num_doors_4', 'make_chevrolet', 'make_ford',\n",
            "       'make_volkswagen', 'make_toyota', 'make_dodge', 'make_nissan',\n",
            "       'make_gmc', 'make_mazda', 'make_cadillac', 'make_honda',\n",
            "       'model_silverado_1500', 'model_tundra', 'model_f-150',\n",
            "       'model_sierra_1500', 'model_tacoma', 'model_beetle_convertible',\n",
            "       'model_accord', 'model_gti', 'model_frontier', 'model_beetle',\n",
            "       'engine_fuel_type_regular_unleaded',\n",
            "       'engine_fuel_type_premium_unleaded_(required)',\n",
            "       'engine_fuel_type_premium_unleaded_(recommended)',\n",
            "       'engine_fuel_type_flex-fuel_(unleaded/e85)', 'engine_fuel_type_diesel',\n",
            "       'engine_fuel_type_electric',\n",
            "       'engine_fuel_type_flex-fuel_(premium_unleaded_required/e85)',\n",
            "       'engine_fuel_type_flex-fuel_(premium_unleaded_recommended/e85)',\n",
            "       'engine_fuel_type_flex-fuel_(unleaded/natural_gas)',\n",
            "       'driven_wheels_front_wheel_drive', 'driven_wheels_rear_wheel_drive',\n",
            "       'driven_wheels_all_wheel_drive', 'driven_wheels_four_wheel_drive',\n",
            "       'market_category_crossover', 'market_category_flex_fuel',\n",
            "       'market_category_luxury', 'market_category_hatchback',\n",
            "       'market_category_luxury,performance', 'market_category_performance',\n",
            "       'market_category_crossover,luxury',\n",
            "       'market_category_luxury,high-performance',\n",
            "       'market_category_exotic,high-performance',\n",
            "       'market_category_hatchback,performance', 'vehicle_size_compact',\n",
            "       'vehicle_size_midsize', 'vehicle_size_large', 'vehicle_style_sedan',\n",
            "       'vehicle_style_4dr_suv', 'vehicle_style_coupe',\n",
            "       'vehicle_style_convertible', 'vehicle_style_4dr_hatchback',\n",
            "       'vehicle_style_crew_cab_pickup', 'vehicle_style_extended_cab_pickup',\n",
            "       'vehicle_style_wagon', 'vehicle_style_2dr_hatchback',\n",
            "       'vehicle_style_passenger_minivan'],\n",
            "      dtype='object')\n"
          ]
        },
        {
          "output_type": "execute_result",
          "data": {
            "text/plain": [
              "0"
            ]
          },
          "metadata": {},
          "execution_count": 237
        }
      ]
    },
    {
      "cell_type": "code",
      "execution_count": 255,
      "metadata": {
        "id": "b9YCeeaLuxf6",
        "outputId": "699966aa-0629-4254-ee94-7beb35aa0c01",
        "colab": {
          "base_uri": "https://localhost:8080/"
        }
      },
      "outputs": [
        {
          "output_type": "execute_result",
          "data": {
            "text/plain": [
              "(7150, 65)"
            ]
          },
          "metadata": {},
          "execution_count": 255
        }
      ],
      "source": [
        "X_train = preparec_X(df_train)\n",
        "X_train.shape"
      ],
      "id": "b9YCeeaLuxf6"
    },
    {
      "cell_type": "code",
      "source": [
        "w0, w = train_linear_regression(X_train, y_train)\n",
        "\n",
        "X_val = preparec_X(df_val)\n",
        "y_pred = w0 + X_val.dot(w)\n",
        "rmse(y_val, y_pred)"
      ],
      "metadata": {
        "id": "dDF77yKVDOoR",
        "outputId": "cf03fc69-855b-4a75-d75d-43f13c1318d2",
        "colab": {
          "base_uri": "https://localhost:8080/"
        }
      },
      "id": "dDF77yKVDOoR",
      "execution_count": 256,
      "outputs": [
        {
          "output_type": "execute_result",
          "data": {
            "text/plain": [
              "226.97717827330956"
            ]
          },
          "metadata": {},
          "execution_count": 256
        }
      ]
    },
    {
      "cell_type": "code",
      "execution_count": 259,
      "metadata": {
        "id": "4ymWKouxuxf7",
        "colab": {
          "base_uri": "https://localhost:8080/"
        },
        "outputId": "9d3cf4ab-4987-4814-89ea-d329a994e087"
      },
      "outputs": [
        {
          "output_type": "execute_result",
          "data": {
            "text/plain": [
              "980876690328452.9"
            ]
          },
          "metadata": {},
          "execution_count": 259
        }
      ],
      "source": [
        "w0"
      ],
      "id": "4ymWKouxuxf7"
    },
    {
      "cell_type": "code",
      "source": [
        "sns.histplot(y_pred,label='predicted', color='red', alpha=0.5, bins=50)\n",
        "sns.histplot(y_val,label='true', color='blue', alpha=0.5, bins=50)\n",
        "plt.legend()\n",
        "plt.title(f\"  valid rmse :{rmse(y_val, y_pred) } \")"
      ],
      "metadata": {
        "id": "gxtq6GxwEijn",
        "outputId": "cfe7f032-da16-4266-e478-c475c6ebc6cc",
        "colab": {
          "base_uri": "https://localhost:8080/",
          "height": 280
        }
      },
      "id": "gxtq6GxwEijn",
      "execution_count": 258,
      "outputs": [
        {
          "output_type": "execute_result",
          "data": {
            "text/plain": [
              "Text(0.5, 1.0, '  valid rmse :226.97717827330956 ')"
            ]
          },
          "metadata": {},
          "execution_count": 258
        },
        {
          "output_type": "display_data",
          "data": {
            "text/plain": [
              "<Figure size 640x480 with 1 Axes>"
            ],
            "image/png": "[encoded data removed]"
          },
          "metadata": {}
        }
      ]
    },
    {
      "cell_type": "markdown",
      "metadata": {
        "id": "ZbEQAEOquxf7"
      },
      "source": [
        "## 2.13 Regularization"
      ],
      "id": "ZbEQAEOquxf7"
    },
    {
      "cell_type": "code",
      "execution_count": 264,
      "metadata": {
        "id": "C5AGnvqDuxf7",
        "colab": {
          "base_uri": "https://localhost:8080/"
        },
        "outputId": "0149ba49-ccff-451d-9e43-7cff48e817f7"
      },
      "outputs": [
        {
          "output_type": "execute_result",
          "data": {
            "text/plain": [
              "array([[4.     , 4.     , 4.     ],\n",
              "       [3.     , 5.     , 5.     ],\n",
              "       [5.     , 1.     , 1.     ],\n",
              "       [5.     , 4.     , 4.     ],\n",
              "       [7.     , 5.     , 5.     ],\n",
              "       [4.     , 5.     , 5.00001]])"
            ]
          },
          "metadata": {},
          "execution_count": 264
        }
      ],
      "source": [
        "X = [\n",
        "    [4, 4, 4],\n",
        "    [3, 5, 5],\n",
        "    [5, 1, 1],\n",
        "    [5, 4, 4],\n",
        "    [7, 5, 5],\n",
        "    [4, 5, 5.00001],\n",
        "]\n",
        "\n",
        "X = np.array(X)\n",
        "X"
      ],
      "id": "C5AGnvqDuxf7"
    },
    {
      "cell_type": "code",
      "execution_count": 261,
      "metadata": {
        "id": "5NLwNnHKuxf8"
      },
      "outputs": [],
      "source": [
        "y= [1, 2, 3, 1, 2, 3]"
      ],
      "id": "5NLwNnHKuxf8"
    },
    {
      "cell_type": "code",
      "execution_count": 265,
      "metadata": {
        "id": "v1C7WVfeuxf8",
        "colab": {
          "base_uri": "https://localhost:8080/"
        },
        "outputId": "bdd10e52-e29d-4683-d4a8-0509b994fdf3"
      },
      "outputs": [
        {
          "output_type": "execute_result",
          "data": {
            "text/plain": [
              "array([[140.     , 111.     , 111.00004],\n",
              "       [111.     , 108.     , 108.00005],\n",
              "       [111.00004, 108.00005, 108.0001 ]])"
            ]
          },
          "metadata": {},
          "execution_count": 265
        }
      ],
      "source": [
        "XTX = X.T.dot(X)\n",
        "XTX"
      ],
      "id": "v1C7WVfeuxf8"
    },
    {
      "cell_type": "code",
      "execution_count": 266,
      "metadata": {
        "id": "487QX4qGuxf9"
      },
      "outputs": [],
      "source": [
        "XTX_inv = np.linalg.inv(XTX)"
      ],
      "id": "487QX4qGuxf9"
    },
    {
      "cell_type": "code",
      "execution_count": 267,
      "metadata": {
        "id": "rtHSvVOyuxf9",
        "colab": {
          "base_uri": "https://localhost:8080/"
        },
        "outputId": "965352d7-9d04-4400-ce1c-fabf668c3b40"
      },
      "outputs": [
        {
          "output_type": "execute_result",
          "data": {
            "text/plain": [
              "array([[ 4.12734158e-02, -6.11735479e+03,  6.11730954e+03],\n",
              "       [-6.11735479e+03,  1.39206347e+10, -1.39206220e+10],\n",
              "       [ 6.11730954e+03, -1.39206220e+10,  1.39206093e+10]])"
            ]
          },
          "metadata": {},
          "execution_count": 267
        }
      ],
      "source": [
        "XTX_inv"
      ],
      "id": "rtHSvVOyuxf9"
    },
    {
      "cell_type": "code",
      "execution_count": 268,
      "metadata": {
        "id": "uAxLXSs5uxf-",
        "colab": {
          "base_uri": "https://localhost:8080/"
        },
        "outputId": "ba1bf4da-a651-4df1-b7cf-53aa5806914c"
      },
      "outputs": [
        {
          "output_type": "execute_result",
          "data": {
            "text/plain": [
              "array([ 4.13182969e-01, -1.74517471e+05,  1.74517392e+05])"
            ]
          },
          "metadata": {},
          "execution_count": 268
        }
      ],
      "source": [
        "XTX_inv.dot(X.T).dot(y)"
      ],
      "id": "uAxLXSs5uxf-"
    },
    {
      "cell_type": "code",
      "execution_count": 275,
      "metadata": {
        "id": "R4XohF_yuxf-"
      },
      "outputs": [],
      "source": [
        "XTX = [\n",
        "    [1, 2, 2],\n",
        "    [2, 1, 1.0000001],\n",
        "    [2, 1.0000001, 1]\n",
        "]\n",
        "\n",
        "XTX = np.array(XTX)"
      ],
      "id": "R4XohF_yuxf-"
    },
    {
      "cell_type": "code",
      "execution_count": 270,
      "metadata": {
        "id": "VLqSwSSOuxf_",
        "colab": {
          "base_uri": "https://localhost:8080/"
        },
        "outputId": "b24a68f8-d4e9-42af-d85a-699772e7af2f"
      },
      "outputs": [
        {
          "output_type": "execute_result",
          "data": {
            "text/plain": [
              "array([[-3.33333356e-01,  3.33333339e-01,  3.33333339e-01],\n",
              "       [ 3.33333339e-01, -5.00000008e+06,  4.99999991e+06],\n",
              "       [ 3.33333339e-01,  4.99999991e+06, -5.00000008e+06]])"
            ]
          },
          "metadata": {},
          "execution_count": 270
        }
      ],
      "source": [
        "np.linalg.inv(XTX)"
      ],
      "id": "VLqSwSSOuxf_"
    },
    {
      "cell_type": "code",
      "source": [
        "np.eye(XTX.shape[0])"
      ],
      "metadata": {
        "id": "uM82Jy7kHWZ9",
        "outputId": "35dd1d7e-219d-408a-8e8d-b69f2769795b",
        "colab": {
          "base_uri": "https://localhost:8080/"
        }
      },
      "id": "uM82Jy7kHWZ9",
      "execution_count": 273,
      "outputs": [
        {
          "output_type": "execute_result",
          "data": {
            "text/plain": [
              "array([[1., 0., 0.],\n",
              "       [0., 1., 0.],\n",
              "       [0., 0., 1.]])"
            ]
          },
          "metadata": {},
          "execution_count": 273
        }
      ]
    },
    {
      "cell_type": "code",
      "execution_count": 281,
      "metadata": {
        "id": "WvdllUf7uxf_",
        "colab": {
          "base_uri": "https://localhost:8080/"
        },
        "outputId": "09758e17-c07f-4cf9-e310-dc2248d00714"
      },
      "outputs": [
        {
          "output_type": "execute_result",
          "data": {
            "text/plain": [
              "array([[1.11     , 2.       , 2.       ],\n",
              "       [2.       , 1.11     , 1.0000001],\n",
              "       [2.       , 1.0000001, 1.11     ]])"
            ]
          },
          "metadata": {},
          "execution_count": 281
        }
      ],
      "source": [
        "XTX = XTX + 0.1 * np.eye(XTX.shape[0])\n",
        "XTX"
      ],
      "id": "WvdllUf7uxf_"
    },
    {
      "cell_type": "code",
      "execution_count": 282,
      "metadata": {
        "id": "nyNVmdR1uxf_",
        "colab": {
          "base_uri": "https://localhost:8080/"
        },
        "outputId": "4ac2a09a-aab6-4a47-c039-56e9ccfba5e8"
      },
      "outputs": [
        {
          "output_type": "execute_result",
          "data": {
            "text/plain": [
              "array([[-0.37292991,  0.35348805,  0.35348805],\n",
              "       [ 0.35348805,  4.44736574, -4.64355161],\n",
              "       [ 0.35348805, -4.64355161,  4.44736574]])"
            ]
          },
          "metadata": {},
          "execution_count": 282
        }
      ],
      "source": [
        "np.linalg.inv(XTX)"
      ],
      "id": "nyNVmdR1uxf_"
    },
    {
      "cell_type": "code",
      "execution_count": 277,
      "metadata": {
        "id": "in3H1OjHuxgA"
      },
      "outputs": [],
      "source": [
        "def train_linear_regression_r(X, y, r=0.001):\n",
        "    ones = np.ones(X.shape[0])\n",
        "    X = np.column_stack([ones, X])\n",
        "\n",
        "    XTX = X.T.dot(X)\n",
        "    XTX = XTX + r * np.eye(XTX.shape[0])\n",
        "\n",
        "    XTX_inv = np.linalg.inv(XTX)\n",
        "    w_full = XTX_inv.dot(X.T).dot(y)\n",
        "\n",
        "    return w_full[0], w_full[1:]"
      ],
      "id": "in3H1OjHuxgA"
    },
    {
      "cell_type": "code",
      "execution_count": 295,
      "metadata": {
        "id": "sLhAdmptuxgA",
        "colab": {
          "base_uri": "https://localhost:8080/"
        },
        "outputId": "086ba8e7-e342-448e-d8f1-c151af2bc274"
      },
      "outputs": [
        {
          "output_type": "execute_result",
          "data": {
            "text/plain": [
              "0.4419971220233104"
            ]
          },
          "metadata": {},
          "execution_count": 295
        }
      ],
      "source": [
        "X_train = preparec_X(df_train)\n",
        "w0, w = train_linear_regression_r(X_train, y_train, r=0.001)\n",
        "\n",
        "X_val = preparec_X(df_val)\n",
        "y_pred = w0 + X_val.dot(w)\n",
        "rmse(y_val, y_pred)"
      ],
      "id": "sLhAdmptuxgA"
    },
    {
      "cell_type": "code",
      "source": [
        "sns.histplot(y_pred,label='predicted', color='red', alpha=0.5, bins=50)\n",
        "sns.histplot(y_val,label='true', color='blue', alpha=0.5, bins=50)\n",
        "plt.legend()\n",
        "plt.title(f\" r : 0.001 valid rmse :{rmse(y_val, y_pred) } \")"
      ],
      "metadata": {
        "id": "K6b4tcwdIFFR",
        "outputId": "12a5fb5a-66d6-4435-cde2-cbe05543337a",
        "colab": {
          "base_uri": "https://localhost:8080/",
          "height": 283
        }
      },
      "id": "K6b4tcwdIFFR",
      "execution_count": 297,
      "outputs": [
        {
          "output_type": "execute_result",
          "data": {
            "text/plain": [
              "Text(0.5, 1.0, ' r : 0.001 valid rmse :0.4419971220233104 ')"
            ]
          },
          "metadata": {},
          "execution_count": 297
        },
        {
          "output_type": "display_data",
          "data": {
            "text/plain": [
              "<Figure size 640x480 with 1 Axes>"
            ],
            "image/png": "[encoded data removed]"
          },
          "metadata": {}
        }
      ]
    },
    {
      "cell_type": "markdown",
      "metadata": {
        "id": "o8tHbM63uxgB"
      },
      "source": [
        "## 2.14 Tuning the model"
      ],
      "id": "o8tHbM63uxgB"
    },
    {
      "cell_type": "code",
      "execution_count": null,
      "metadata": {
        "id": "gUmHcAhNuxgB"
      },
      "outputs": [],
      "source": [
        "for r in [0.0, 0.00001, 0.0001, 0.001, 0.1, 1, 10]:\n",
        "    X_train = prepare_X(df_train)\n",
        "    w0, w = train_linear_regression_reg(X_train, y_train, r=r)\n",
        "\n",
        "    X_val = prepare_X(df_val)\n",
        "    y_pred = w0 + X_val.dot(w)\n",
        "    score = rmse(y_val, y_pred)\n",
        "\n",
        "    print(r, w0, score)"
      ],
      "id": "gUmHcAhNuxgB"
    },
    {
      "cell_type": "code",
      "execution_count": null,
      "metadata": {
        "id": "FPJCeTr1uxgB"
      },
      "outputs": [],
      "source": [
        "r = 0.001\n",
        "X_train = prepare_X(df_train)\n",
        "w0, w = train_linear_regression_reg(X_train, y_train, r=r)\n",
        "\n",
        "X_val = prepare_X(df_val)\n",
        "y_pred = w0 + X_val.dot(w)\n",
        "score = rmse(y_val, y_pred)\n",
        "score"
      ],
      "id": "FPJCeTr1uxgB"
    },
    {
      "cell_type": "markdown",
      "metadata": {
        "id": "7z9cFmQpuxgC"
      },
      "source": [
        "## 2.15 Using the model"
      ],
      "id": "7z9cFmQpuxgC"
    },
    {
      "cell_type": "code",
      "execution_count": null,
      "metadata": {
        "id": "kbX54CG0uxgC"
      },
      "outputs": [],
      "source": [
        "df_full_train = pd.concat([df_train, df_val])"
      ],
      "id": "kbX54CG0uxgC"
    },
    {
      "cell_type": "code",
      "execution_count": null,
      "metadata": {
        "id": "JRO8g0u3uxgD"
      },
      "outputs": [],
      "source": [
        "df_full_train = df_full_train.reset_index(drop=True)"
      ],
      "id": "JRO8g0u3uxgD"
    },
    {
      "cell_type": "code",
      "execution_count": null,
      "metadata": {
        "id": "QX5jJn4KuxgD"
      },
      "outputs": [],
      "source": [
        "X_full_train = prepare_X(df_full_train)"
      ],
      "id": "QX5jJn4KuxgD"
    },
    {
      "cell_type": "code",
      "execution_count": null,
      "metadata": {
        "id": "oPry_OoduxgD"
      },
      "outputs": [],
      "source": [
        "X_full_train"
      ],
      "id": "oPry_OoduxgD"
    },
    {
      "cell_type": "code",
      "execution_count": null,
      "metadata": {
        "id": "7LWW4TJGuxgE"
      },
      "outputs": [],
      "source": [
        "y_full_train = np.concatenate([y_train, y_val])"
      ],
      "id": "7LWW4TJGuxgE"
    },
    {
      "cell_type": "code",
      "execution_count": null,
      "metadata": {
        "id": "6l3C2-DBuxgE"
      },
      "outputs": [],
      "source": [
        "w0, w = train_linear_regression_reg(X_full_train, y_full_train, r=0.001)"
      ],
      "id": "6l3C2-DBuxgE"
    },
    {
      "cell_type": "code",
      "execution_count": null,
      "metadata": {
        "id": "l1xNeSHpuxgE"
      },
      "outputs": [],
      "source": [
        "X_test = prepare_X(df_test)\n",
        "y_pred = w0 + X_test.dot(w)\n",
        "score = rmse(y_test, y_pred)\n",
        "score"
      ],
      "id": "l1xNeSHpuxgE"
    },
    {
      "cell_type": "code",
      "execution_count": null,
      "metadata": {
        "id": "47Pmga5ZuxgF"
      },
      "outputs": [],
      "source": [
        "car = df_test.iloc[20].to_dict()\n",
        "car"
      ],
      "id": "47Pmga5ZuxgF"
    },
    {
      "cell_type": "code",
      "execution_count": null,
      "metadata": {
        "id": "aBw_VgDkuxgF"
      },
      "outputs": [],
      "source": [
        "df_small = pd.DataFrame([car])\n",
        "df_small"
      ],
      "id": "aBw_VgDkuxgF"
    },
    {
      "cell_type": "code",
      "execution_count": null,
      "metadata": {
        "id": "d_hA8x9ruxgG"
      },
      "outputs": [],
      "source": [
        "X_small = prepare_X(df_small)"
      ],
      "id": "d_hA8x9ruxgG"
    },
    {
      "cell_type": "code",
      "execution_count": null,
      "metadata": {
        "id": "6f5AU_QHuxgG"
      },
      "outputs": [],
      "source": [
        "y_pred = w0 + X_small.dot(w)\n",
        "y_pred = y_pred[0]\n",
        "y_pred"
      ],
      "id": "6f5AU_QHuxgG"
    },
    {
      "cell_type": "code",
      "execution_count": null,
      "metadata": {
        "id": "-Ua_iBk4uxgG"
      },
      "outputs": [],
      "source": [
        "np.expm1(y_pred)"
      ],
      "id": "-Ua_iBk4uxgG"
    },
    {
      "cell_type": "code",
      "execution_count": null,
      "metadata": {
        "id": "dIol-qyEuxgH"
      },
      "outputs": [],
      "source": [
        "np.expm1(y_test[20])"
      ],
      "id": "dIol-qyEuxgH"
    },
    {
      "cell_type": "markdown",
      "metadata": {
        "id": "Ks4_j1HcuxgI"
      },
      "source": [
        "## 2.16 Next steps"
      ],
      "id": "Ks4_j1HcuxgI"
    },
    {
      "cell_type": "markdown",
      "metadata": {
        "id": "H38pOq92uxgI"
      },
      "source": [
        "* We included only 5 top features. What happens if we include 10?\n",
        "\n",
        "Other projects\n",
        "\n",
        "* Predict the price of a house - e.g. boston dataset\n",
        "* https://archive.ics.uci.edu/ml/datasets.php?task=reg\n",
        "* https://archive.ics.uci.edu/ml/datasets/Student+Performance"
      ],
      "id": "H38pOq92uxgI"
    },
    {
      "cell_type": "markdown",
      "metadata": {
        "id": "uknzjWcOuxgI"
      },
      "source": [
        "## 2.17 Summary\n",
        "\n",
        "* EDA - looking at data, finding missing values\n",
        "* Target variable distribution - long tail => bell shaped curve\n",
        "* Validation framework: train/val/test split (helped us detect problems)\n",
        "* Normal equation - not magic, but math\n",
        "* Implemented it with numpy\n",
        "* RMSE to validate our model\n",
        "* Feature engineering: age, categorical features\n",
        "* Regularization to fight numerical instability"
      ],
      "id": "uknzjWcOuxgI"
    },
    {
      "cell_type": "code",
      "execution_count": null,
      "metadata": {
        "id": "Xb58lggduxgJ"
      },
      "outputs": [],
      "source": [],
      "id": "Xb58lggduxgJ"
    }
  ],
  "metadata": {
    "kernelspec": {
      "display_name": "Python 3",
      "language": "python",
      "name": "python3"
    },
    "language_info": {
      "codemirror_mode": {
        "name": "ipython",
        "version": 3
      },
      "file_extension": ".py",
      "mimetype": "text/x-python",
      "name": "python",
      "nbconvert_exporter": "python",
      "pygments_lexer": "ipython3",
      "version": "3.6.9"
    },
    "colab": {
      "provenance": [],
      "include_colab_link": true
    }
  },
  "nbformat": 4,
  "nbformat_minor": 5
}