{
 "cells": [
  {
   "cell_type": "code",
   "execution_count": 1,
   "metadata": {},
   "outputs": [],
   "source": [
    "import pandas as pd\n",
    "import numpy as np\n",
    "from sklearn.model_selection import train_test_split\n",
    "from sklearn import preprocessing\n",
    "import lazypredict\n",
    "from lazypredict.Supervised import LazyClassifier\n",
    "\n",
    "# to install \n",
    "# pip install lazypredict\n",
    "\n",
    "# Load .. and preprocess data\n",
    "URL = \"../data/lung_cancer.csv\"\n",
    "data = pd.read_csv(URL)\n",
    "\n",
    "# One-hot encode gender\n",
    "one_hot = pd.get_dummies(data['GENDER'])\n",
    "data = data.drop('GENDER',axis = 1)\n",
    "data = data.join(one_hot)\n",
    "\n",
    "# Encode lung cancer labels\n",
    "label = preprocessing.LabelEncoder()\n",
    "data['LUNG_CANCER'] = label.fit_transform(data['LUNG_CANCER'])\n",
    "\n",
    "# Select features and target\n",
    "features = ['AGE', 'SMOKING', 'YELLOW_FINGERS', 'ANXIETY', 'PEER_PRESSURE',\n",
    "            'CHRONIC DISEASE', 'FATIGUE ', 'ALLERGY ', 'WHEEZING',\n",
    "            'ALCOHOL CONSUMING', 'COUGHING', 'SHORTNESS OF BREATH',\n",
    "            'SWALLOWING DIFFICULTY', 'CHEST PAIN', 'F', 'M']\n",
    "x = data[features]\n",
    "y = data['LUNG_CANCER']\n",
    "\n",
    "# Split data into train and test sets\n",
    "train_x,test_x,train_y,test_y = train_test_split(x,y)\n",
    "\n"
   ]
  },
  {
   "cell_type": "code",
   "execution_count": 4,
   "metadata": {},
   "outputs": [
    {
     "name": "stderr",
     "output_type": "stream",
     "text": [
      "100%|██████████| 29/29 [00:02<00:00, 11.94it/s]"
     ]
    },
    {
     "name": "stdout",
     "output_type": "stream",
     "text": [
      "                               Accuracy  Balanced Accuracy  ROC AUC  F1 Score  \\\n",
      "Model                                                                           \n",
      "NearestCentroid                    0.91               0.91     0.91      0.92   \n",
      "PassiveAggressiveClassifier        0.91               0.83     0.83      0.91   \n",
      "QuadraticDiscriminantAnalysis      0.88               0.82     0.82      0.89   \n",
      "CalibratedClassifierCV             0.94               0.81     0.81      0.93   \n",
      "LinearSVC                          0.92               0.80     0.80      0.92   \n",
      "RandomForestClassifier             0.92               0.80     0.80      0.92   \n",
      "LinearDiscriminantAnalysis         0.92               0.80     0.80      0.92   \n",
      "LogisticRegression                 0.92               0.80     0.80      0.92   \n",
      "SGDClassifier                      0.91               0.80     0.80      0.91   \n",
      "GaussianNB                         0.90               0.79     0.79      0.90   \n",
      "DecisionTreeClassifier             0.88               0.78     0.78      0.89   \n",
      "Perceptron                         0.88               0.78     0.78      0.89   \n",
      "LabelPropagation                   0.86               0.77     0.77      0.87   \n",
      "LabelSpreading                     0.86               0.77     0.77      0.87   \n",
      "SVC                                0.91               0.76     0.76      0.90   \n",
      "RidgeClassifier                    0.91               0.76     0.76      0.90   \n",
      "AdaBoostClassifier                 0.91               0.76     0.76      0.90   \n",
      "BernoulliNB                        0.90               0.75     0.75      0.89   \n",
      "XGBClassifier                      0.90               0.75     0.75      0.89   \n",
      "LGBMClassifier                     0.90               0.75     0.75      0.89   \n",
      "ExtraTreesClassifier               0.87               0.74     0.74      0.87   \n",
      "BaggingClassifier                  0.86               0.73     0.73      0.86   \n",
      "ExtraTreeClassifier                0.85               0.72     0.72      0.85   \n",
      "RidgeClassifierCV                  0.90               0.71     0.71      0.89   \n",
      "KNeighborsClassifier               0.88               0.67     0.67      0.87   \n",
      "DummyClassifier                    0.86               0.50     0.50      0.79   \n",
      "\n",
      "                               Time Taken  \n",
      "Model                                      \n",
      "NearestCentroid                      0.03  \n",
      "PassiveAggressiveClassifier          0.03  \n",
      "QuadraticDiscriminantAnalysis        0.03  \n",
      "CalibratedClassifierCV               0.08  \n",
      "LinearSVC                            0.03  \n",
      "RandomForestClassifier               0.33  \n",
      "LinearDiscriminantAnalysis           0.02  \n",
      "LogisticRegression                   0.06  \n",
      "SGDClassifier                        0.05  \n",
      "GaussianNB                           0.03  \n",
      "DecisionTreeClassifier               0.03  \n",
      "Perceptron                           0.02  \n",
      "LabelPropagation                     0.04  \n",
      "LabelSpreading                       0.03  \n",
      "SVC                                  0.04  \n",
      "RidgeClassifier                      0.05  \n",
      "AdaBoostClassifier                   0.32  \n",
      "BernoulliNB                          0.03  \n",
      "XGBClassifier                        0.39  \n",
      "LGBMClassifier                       0.27  \n",
      "ExtraTreesClassifier                 0.27  \n",
      "BaggingClassifier                    0.09  \n",
      "ExtraTreeClassifier                  0.03  \n",
      "RidgeClassifierCV                    0.03  \n",
      "KNeighborsClassifier                 0.03  \n",
      "DummyClassifier                      0.03  \n"
     ]
    },
    {
     "name": "stderr",
     "output_type": "stream",
     "text": [
      "\n"
     ]
    }
   ],
   "source": [
    "# Use lazypredict to train and predict with multiple models\n",
    "clf = LazyClassifier(verbose=0,ignore_warnings=True,custom_metric=None)\n",
    "\n",
    "# models,predictions\n",
    "models,predictions = clf.fit(train_x,test_x,train_y,test_y)\n",
    "\n",
    "\n",
    "\n",
    "\n"
   ]
  },
  {
   "cell_type": "code",
   "execution_count": 5,
   "metadata": {},
   "outputs": [
    {
     "ename": "TypeError",
     "evalue": "fit() missing 2 required positional arguments: 'y_train' and 'y_test'",
     "output_type": "error",
     "traceback": [
      "\u001b[0;31m---------------------------------------------------------------------------\u001b[0m",
      "\u001b[0;31mTypeError\u001b[0m                                 Traceback (most recent call last)",
      "\u001b[0;32m/tmp/ipykernel_58171/107747581.py\u001b[0m in \u001b[0;36m<module>\u001b[0;34m\u001b[0m\n\u001b[0;32m----> 1\u001b[0;31m \u001b[0mclf\u001b[0m\u001b[0;34m.\u001b[0m\u001b[0mfit\u001b[0m\u001b[0;34m(\u001b[0m\u001b[0mtrain_x\u001b[0m\u001b[0;34m,\u001b[0m\u001b[0mtrain_y\u001b[0m\u001b[0;34m)\u001b[0m\u001b[0;34m\u001b[0m\u001b[0;34m\u001b[0m\u001b[0m\n\u001b[0m\u001b[1;32m      2\u001b[0m \u001b[0;34m\u001b[0m\u001b[0m\n\u001b[1;32m      3\u001b[0m \u001b[0;31m# Evaluate the model on the test set\u001b[0m\u001b[0;34m\u001b[0m\u001b[0;34m\u001b[0m\u001b[0m\n\u001b[1;32m      4\u001b[0m \u001b[0mpredictions\u001b[0m \u001b[0;34m=\u001b[0m \u001b[0mclf\u001b[0m\u001b[0;34m.\u001b[0m\u001b[0mpredict\u001b[0m\u001b[0;34m(\u001b[0m\u001b[0mtest_x\u001b[0m\u001b[0;34m)\u001b[0m\u001b[0;34m\u001b[0m\u001b[0;34m\u001b[0m\u001b[0m\n\u001b[1;32m      5\u001b[0m \u001b[0maccuracy\u001b[0m \u001b[0;34m=\u001b[0m \u001b[0mclf\u001b[0m\u001b[0;34m.\u001b[0m\u001b[0mscore\u001b[0m\u001b[0;34m(\u001b[0m\u001b[0mtest_x\u001b[0m\u001b[0;34m,\u001b[0m\u001b[0mtest_y\u001b[0m\u001b[0;34m)\u001b[0m\u001b[0;34m\u001b[0m\u001b[0;34m\u001b[0m\u001b[0m\n",
      "\u001b[0;31mTypeError\u001b[0m: fit() missing 2 required positional arguments: 'y_train' and 'y_test'"
     ]
    }
   ],
   "source": [
    "clf.fit(train_x,train_y)\n",
    "\n",
    "# Evaluate the model on the test set\n",
    "predictions = clf.predict(test_x)\n",
    "accuracy = clf.score(test_x,test_y)\n",
    "print(f'Accuracy: {accuracy:.2f}')"
   ]
  },
  {
   "cell_type": "code",
   "execution_count": null,
   "metadata": {},
   "outputs": [],
   "source": [
    "#create function \n"
   ]
  },
  {
   "cell_type": "code",
   "execution_count": 4,
   "metadata": {},
   "outputs": [
    {
     "name": "stdout",
     "output_type": "stream",
     "text": [
      "                               Accuracy  Balanced Accuracy  ROC AUC  F1 Score  \\\n",
      "Model                                                                           \n",
      "LinearDiscriminantAnalysis         0.96               0.98     0.98      0.96   \n",
      "PassiveAggressiveClassifier        0.96               0.98     0.98      0.96   \n",
      "BernoulliNB                        0.95               0.97     0.97      0.95   \n",
      "GaussianNB                         0.94               0.96     0.96      0.94   \n",
      "LogisticRegression                 0.99               0.93     0.93      0.99   \n",
      "NearestCentroid                    0.86               0.92     0.92      0.88   \n",
      "RidgeClassifier                    0.97               0.92     0.92      0.97   \n",
      "ExtraTreesClassifier               0.97               0.92     0.92      0.97   \n",
      "LinearSVC                          0.96               0.91     0.91      0.96   \n",
      "XGBClassifier                      0.95               0.91     0.91      0.95   \n",
      "RidgeClassifierCV                  0.97               0.86     0.86      0.97   \n",
      "AdaBoostClassifier                 0.97               0.86     0.86      0.97   \n",
      "RandomForestClassifier             0.96               0.85     0.85      0.96   \n",
      "SVC                                0.95               0.84     0.84      0.95   \n",
      "LabelSpreading                     0.94               0.84     0.84      0.94   \n",
      "LabelPropagation                   0.94               0.84     0.84      0.94   \n",
      "KNeighborsClassifier               0.94               0.84     0.84      0.94   \n",
      "ExtraTreeClassifier                0.92               0.83     0.83      0.93   \n",
      "CalibratedClassifierCV             0.96               0.79     0.79      0.96   \n",
      "BaggingClassifier                  0.94               0.77     0.77      0.93   \n",
      "QuadraticDiscriminantAnalysis      0.94               0.77     0.77      0.93   \n",
      "LGBMClassifier                     0.92               0.76     0.76      0.92   \n",
      "SGDClassifier                      0.87               0.74     0.74      0.88   \n",
      "Perceptron                         0.92               0.70     0.70      0.92   \n",
      "DecisionTreeClassifier             0.91               0.69     0.69      0.91   \n",
      "DummyClassifier                    0.91               0.50     0.50      0.87   \n",
      "\n",
      "                               Time Taken  \n",
      "Model                                      \n",
      "LinearDiscriminantAnalysis           0.06  \n",
      "PassiveAggressiveClassifier          0.03  \n",
      "BernoulliNB                          0.06  \n",
      "GaussianNB                           0.05  \n",
      "LogisticRegression                   0.03  \n",
      "NearestCentroid                      0.03  \n",
      "RidgeClassifier                      0.04  \n",
      "ExtraTreesClassifier                 0.46  \n",
      "LinearSVC                            0.03  \n",
      "XGBClassifier                        0.45  \n",
      "RidgeClassifierCV                    0.03  \n",
      "AdaBoostClassifier                   0.23  \n",
      "RandomForestClassifier               0.31  \n",
      "SVC                                  0.03  \n",
      "LabelSpreading                       0.05  \n",
      "LabelPropagation                     0.06  \n",
      "KNeighborsClassifier                 0.05  \n",
      "ExtraTreeClassifier                  0.02  \n",
      "CalibratedClassifierCV               0.09  \n",
      "BaggingClassifier                    0.08  \n",
      "QuadraticDiscriminantAnalysis        0.03  \n",
      "LGBMClassifier                       1.00  \n",
      "SGDClassifier                        0.04  \n",
      "Perceptron                           0.02  \n",
      "DecisionTreeClassifier               0.03  \n",
      "DummyClassifier                      0.02  \n"
     ]
    }
   ],
   "source": [
    "print(predictions)"
   ]
  },
  {
   "cell_type": "code",
   "execution_count": null,
   "metadata": {},
   "outputs": [],
   "source": [
    "# create "
   ]
  }
 ],
 "metadata": {
  "kernelspec": {
   "display_name": "Python 3.9.13 ('base')",
   "language": "python",
   "name": "python3"
  },
  "language_info": {
   "codemirror_mode": {
    "name": "ipython",
    "version": 3
   },
   "file_extension": ".py",
   "mimetype": "text/x-python",
   "name": "python",
   "nbconvert_exporter": "python",
   "pygments_lexer": "ipython3",
   "version": "3.9.13"
  },
  "orig_nbformat": 4,
  "vscode": {
   "interpreter": {
    "hash": "81d52206045fc503cd67771240b9a63e5d84b45569aa4e2cca9c77dceaed890b"
   }
  }
 },
 "nbformat": 4,
 "nbformat_minor": 2
}
